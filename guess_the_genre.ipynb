{
  "cells": [
    {
      "attachments": {},
      "cell_type": "markdown",
      "metadata": {},
      "source": [
        "# Projet : Traitement Automatique des Langues (Partie 1)\n",
        "\n",
        "Nous avons à notre disposition deux fichiers CSV ([allocine_genres_test.csv](data/allocine_genres_test.csv) et [allocine_genres_train.csv](data/allocine_genres_train.csv)) contenant des informations sur des films et leurs genres. Le but de ce projet est de prédire les genres d'un film à partir de son synopsis notamment (et d'autres informations).\n",
        "\n",
        "L’objectif est d’entraîner un outil de classification automatique des films en fonction de leur genre. La classification doit se baser sur le texte de la synopsis et sur le titre des films. Le texte et le titre des articles ont déjà été tokenisés et tous les tokens sont séparés par un espace."
      ]
    },
    {
      "attachments": {},
      "cell_type": "markdown",
      "metadata": {},
      "source": [
        "## 1. Importation des données et analyse exploratoire\n",
        "\n",
        "Les données sont disponibles dans le dossier [data](data/). Nous allons commencer par importer les données et les analyser."
      ]
    },
    {
      "cell_type": "code",
      "execution_count": null,
      "metadata": {
        "tags": []
      },
      "outputs": [],
      "source": [
        "%%capture\n",
        "\n",
        "# exécuter cette cellule pour installer les dépendances et télécharger les modèles spacy\n",
        "# remplacer `python` par `python3` si nécessaire\n",
        "# !conda create -n nlp python=3.11\n",
        "# !conda activate nlp\n",
        "\n",
        "# INSTALLER TOUTES LES DÉPENDANCES MANUELLEMENT LORS DE L'EXÉCUTION SUR GOOGLE COLAB\n",
        "# DÉCOMMENTER LES LIGNES CI-DESSOUS LORS DE L'EXÉCUTION SUR GOOGLE COLAB\n",
        "# !pip install nltk spacy sklearn evaluate datasets transformers\n",
        "# !wget -O data/allocine_genres_train.csv \"https://raw.githubusercontent.com/ThomasByr/projet-algo-texte/master/data/allocine_genres_train.csv\"\n",
        "# !wget -O data/allocine_genres_train.csv \"https://raw.githubusercontent.com/ThomasByr/projet-algo-texte/master/data/allocine_genres_test.csv\"\n",
        "\n",
        "# COMMENTER LES LIGNES CI-DESSOUS LORS DE L'EXÉCUTION SUR GOOGLE COLAB\n",
        "!python -m pip install --upgrade -r requirements.txt\n",
        "!python -m spacy download fr_core_news_sm"
      ]
    },
    {
      "cell_type": "code",
      "execution_count": null,
      "metadata": {},
      "outputs": [],
      "source": [
        "import os\n",
        "import sys\n",
        "\n",
        "import random\n",
        "import pandas as pd\n",
        "import numpy as np\n",
        "import matplotlib.pyplot as plt\n",
        "\n",
        "import nltk\n",
        "import spacy\n",
        "\n",
        "from nltk.corpus import stopwords\n",
        "from nltk.stem.snowball import FrenchStemmer\n",
        "from spacy import displacy\n",
        "\n",
        "from sklearn.model_selection import train_test_split\n",
        "from sklearn.feature_extraction import DictVectorizer\n",
        "from sklearn.feature_extraction.text import TfidfVectorizer, CountVectorizer, HashingVectorizer\n",
        "from sklearn.preprocessing import FunctionTransformer, MinMaxScaler\n",
        "from sklearn.preprocessing import OneHotEncoder\n",
        "from sklearn.metrics import classification_report, f1_score, accuracy_score, confusion_matrix\n",
        "\n",
        "from sklearn.compose import ColumnTransformer\n",
        "from sklearn.pipeline import Pipeline, FeatureUnion, make_pipeline\n",
        "from sklearn.linear_model import LogisticRegression\n",
        "\n",
        "train: pd.DataFrame = pd.read_csv(os.path.join('data', 'allocine_genres_train.csv'))"
      ]
    },
    {
      "cell_type": "code",
      "execution_count": null,
      "metadata": {},
      "outputs": [],
      "source": [
        "print(train.shape)\n",
        "print(train.head())"
      ]
    },
    {
      "cell_type": "code",
      "execution_count": null,
      "metadata": {},
      "outputs": [],
      "source": [
        "print(train['genre'].value_counts(), end='\\n\\n')\n",
        "print(random.choice(train['synopsis'].unique()))"
      ]
    },
    {
      "attachments": {},
      "cell_type": "markdown",
      "metadata": {},
      "source": [
        "On remarque déjà que les donnés chiffrées sont soit des entiers soit des flottants. Les données textuelles sont des chaînes de caractères. Certaines données sont manquantes : `NaN` dans le cas des données chiffrées et une chaîne vide dans le cas des données textuelles.\n",
        "\n",
        "Pour traiter les données manquantes, nous avons deux solutions :\n",
        "\n",
        "1. Dans le cas où il y a très peu de données manquantes, on peut simplement supprimer les entrées qui contiennent ces données manquantes. Cela peut être acceptable si le nombre de données manquantes est très faible par rapport à la taille de l'ensemble de données et que la suppression de ces entrées n'affecte pas significativement les résultats de l'analyse.\n",
        "2. En revanche, si le nombre de données manquantes est important, la suppression de ces entrées pourrait entraîner une perte d'informations importantes pour l'analyse. Dans ce cas, il est généralement préférable de remplacer les valeurs manquantes par une valeur qui représente au mieux l'information manquante. Par exemple, si les données manquantes sont des scores au box-office, nous pouvons remplacer ces données manquantes par la moyenne ou la médiane des scores de box-office disponibles dans les données.\n"
      ]
    },
    {
      "cell_type": "code",
      "execution_count": null,
      "metadata": {},
      "outputs": [],
      "source": [
        "EMPTY_TOKEN = '<EMPTY>'\n",
        "\n",
        "# remove rows with missing values\n",
        "train_dataset_1 = train.dropna(how='any', inplace=False)\n",
        "\n",
        "# replace missing values with either the mean or the median (or empty token)\n",
        "list_headers = train.columns.values.tolist()\n",
        "list_of_numerical_headers = train._get_numeric_data().columns.values.tolist()\n",
        "list_of_categorical_headers = list(set(list_headers) - set(list_of_numerical_headers))\n",
        "\n",
        "train_dataset_2 = train.copy()\n",
        "for header in list_of_numerical_headers:\n",
        "  train_dataset_2[header].fillna(train_dataset_2[header].median(), inplace=True)\n",
        "for header in list_of_categorical_headers:\n",
        "  train_dataset_2[header].fillna(EMPTY_TOKEN, inplace=True)\n",
        "\n",
        "print(train_dataset_1.shape)\n",
        "print(train_dataset_2.shape)"
      ]
    },
    {
      "attachments": {},
      "cell_type": "markdown",
      "metadata": {},
      "source": [
        "Lorsqu'on supprime simplement toutes les entrées où il manque au moins une valeur, on se retrouve uniquement avec 891 valeurs en tout. Cela signifie que nous avons perdu beaucoup d'informations. Nous allons donc utiliser la deuxième solution (au moins dans un premier temps) et remplacer les valeurs manquantes par des valeurs qui représentent au mieux l'information manquante."
      ]
    },
    {
      "attachments": {},
      "cell_type": "markdown",
      "metadata": {},
      "source": [
        "## 2. Prétraitement des données\n",
        "\n",
        "Il faut aussi corriger les entrées textuelles, ainsi qu'appliquer un certain nombre d'algorithmes de prétraitement comme : la suppression des caractères spéciaux, la suppression des stop words, la suppression des mots trop fréquents ou trop rares, la lemmatisation, la suppression des mots trop longs, etc.\n",
        "\n",
        "On définit donc un ensemble de fonctions et de filtres qui vont nous permettre de prétraiter les données textuelles."
      ]
    },
    {
      "cell_type": "code",
      "execution_count": null,
      "metadata": {},
      "outputs": [],
      "source": [
        "nltk.download('stopwords', quiet=True)        # download the stopwords corpus\n",
        "nlp = spacy.load('fr_core_news_sm')           # load the French model\n",
        "fr_stopwords = set(stopwords.words('french')) # so that `in` tests are faster\n",
        "stemmer = FrenchStemmer()                     # for stemming words\n",
        "\n",
        "\n",
        "# get the tokens of a sentence (word based tokenization)\n",
        "def get_tokens_words(text: str) -> list[str]:\n",
        "  doc = nlp(text)\n",
        "  return [w.text for w in doc]\n",
        "\n",
        "\n",
        "# remove stopwords from a sentence\n",
        "def clean_sentence(text: str) -> list[str]:\n",
        "  clean_words: list[str] = []\n",
        "  for token in get_tokens_words(text):\n",
        "    if token not in fr_stopwords:\n",
        "      clean_words.append(token)\n",
        "  return clean_words\n",
        "\n",
        "\n",
        "# get the tokens of multiple sentences (sentence based tokenization)\n",
        "def get_tokens_sentences(text: str) -> list[str]:\n",
        "  doc = nlp(text)\n",
        "  return [s.text for s in doc.sents]\n",
        "\n",
        "\n",
        "# get the lemmas of a sentence\n",
        "def get_stem(text: str) -> list[str]:\n",
        "  doc = nlp(text)\n",
        "  return [stemmer.stem(w.text) for w in doc]\n",
        "\n",
        "\n",
        "# get the named entities of a sentence\n",
        "def get_ner(text: str) -> list[str]:\n",
        "  doc = nlp(text)\n",
        "  return [(ent.text, ent.label_) for ent in doc.ents]\n",
        "\n",
        "\n",
        "# render the named entities of a sentence in a Jupyter notebook\n",
        "def render_ner(text: str) -> None:\n",
        "  doc = nlp(text)\n",
        "  displacy.render(doc, style='ent', jupyter=True)\n",
        "\n",
        "\n",
        "# get the part of speech of a sentence\n",
        "def get_pos(text: str) -> list[str]:\n",
        "  doc = nlp(text)\n",
        "  return [(token, token.pos_) for token in doc]\n",
        "\n",
        "\n",
        "# render the part of speech of a sentence in a Jupyter notebook\n",
        "def render_pos(text: str) -> None:\n",
        "  doc = nlp(text)\n",
        "  displacy.render(doc, style='dep', options={'distance': 90})\n",
        "\n",
        "\n",
        "# get the word embeddings of a sentence\n",
        "def get_word_embeddings(text: str) -> list[np.ndarray]:\n",
        "  doc = nlp(text)\n",
        "  return [token.vector for token in doc]\n",
        "\n",
        "\n",
        "# get the similarity between two sentences\n",
        "def get_mean_embedding(text1: str, text2: str) -> float:\n",
        "  doc1 = nlp(text1)\n",
        "  doc2 = nlp(text2)\n",
        "  mean1 = np.mean([token.vector for token in doc1], axis=0)\n",
        "  mean2 = np.mean([token.vector for token in doc2], axis=0)\n",
        "\n",
        "  return np.dot(mean1, mean2) / (np.linalg.norm(mean1) * np.linalg.norm(mean2))"
      ]
    },
    {
      "attachments": {},
      "cell_type": "markdown",
      "metadata": {},
      "source": [
        "Juste pour clarifier les choses, nous allons simplement effectuer des tests sur l'ensemble de phrases suivantes :\n",
        "\n",
        "1. 'Le réseau sera bientôt rétabli à Marseille'\n",
        "2. 'La panne réseau affecte plusieurs utilisateurs de l'opérateur'\n",
        "3. 'Il fait 18 degrés ici'\n",
        "4. 'Bouygues a eu une coupure de réseau à Marseille. La panne a affecté 300.000 utilisateurs.'"
      ]
    },
    {
      "cell_type": "code",
      "execution_count": null,
      "metadata": {},
      "outputs": [],
      "source": [
        "text1 = 'Le réseau sera bientôt rétabli à Marseille.'\n",
        "text2 = 'La panne réseau affecte plusieurs utilisateurs de l\\'opérateur'\n",
        "text3 = 'Il fait 18 degrés ici'\n",
        "text4 = 'Bouygues a eu une coupure de réseau à Marseille. La panne a affecté 300.000 utilisateurs.'"
      ]
    },
    {
      "cell_type": "code",
      "execution_count": null,
      "metadata": {},
      "outputs": [],
      "source": [
        "# basic tokenization\n",
        "# we can observe `get_tokens_sentences` do not 'cut' at each . or ! or ?\n",
        "\n",
        "print(get_tokens_words(text1))\n",
        "print(clean_sentence(text1))\n",
        "print(get_tokens_sentences(text4))"
      ]
    },
    {
      "cell_type": "code",
      "execution_count": null,
      "metadata": {},
      "outputs": [],
      "source": [
        "# stemming\n",
        "# this doesn't work very well for French...\n",
        "\n",
        "print(get_stem(text1))\n",
        "print(get_stem(text2))"
      ]
    },
    {
      "cell_type": "code",
      "execution_count": null,
      "metadata": {},
      "outputs": [],
      "source": [
        "# named entities recognition\n",
        "\n",
        "print(get_ner(text4))\n",
        "render_ner(text4)"
      ]
    },
    {
      "cell_type": "code",
      "execution_count": null,
      "metadata": {},
      "outputs": [],
      "source": [
        "# part of speech\n",
        "\n",
        "print(get_pos(text1))\n",
        "render_pos(text1)"
      ]
    },
    {
      "cell_type": "code",
      "execution_count": null,
      "metadata": {},
      "outputs": [],
      "source": [
        "# word embeddings and mean embedding (similarity)\n",
        "\n",
        "print(get_word_embeddings(text1)[0].shape)\n",
        "print(get_mean_embedding(text1, text2))\n",
        "print(get_mean_embedding(text1, text4))\n",
        "print(get_mean_embedding(text2, text4))"
      ]
    },
    {
      "attachments": {},
      "cell_type": "markdown",
      "metadata": {},
      "source": [
        "## 3. Préparation des données\n",
        "\n",
        "Nous allons maintenant préparer les données pour l'entraînement de notre modèle.\n",
        "\n",
        "Nous allons donc appliquer les fonctions de prétraitement sur les données textuelles et transformer les données chiffrées en données numériques. Dans un premier temps, nous confectionnerons des ensembles contenant toutes les valeurs et les informations présentes dans les données. Nous verrons par la suites lesquelles sont les plus pertinantes en fonction des résultats obtenus et de nos modèles."
      ]
    },
    {
      "cell_type": "code",
      "execution_count": null,
      "metadata": {},
      "outputs": [],
      "source": [
        "# we will use train_dataset_2 since it has no missing values\n",
        "\n",
        "values = ['synopsis', 'titre']\n",
        "X = train_dataset_2[values]\n",
        "y = train_dataset_2['genre']\n",
        "\n",
        "print(X.shape)\n",
        "print(X.head())\n",
        "print(y.shape)\n",
        "print(y.head())"
      ]
    },
    {
      "cell_type": "code",
      "execution_count": null,
      "metadata": {},
      "outputs": [],
      "source": [
        "X_train, y_train = X, y"
      ]
    },
    {
      "attachments": {},
      "cell_type": "markdown",
      "metadata": {},
      "source": [
        "Pour la suite, nous définirons des pipelines de traitement spécifiques à chaque type de colonne. En particulier, les colonnes correspondant à des textes (`list_of_categorical_headers`) dans `X` seront vectorisées.\n",
        "\n",
        "Pour toutes les données dans `list_of_categorical_headers`, les tokens ont déjà été séparés par des espaces. Nous allons utiliser `TfidfVectorizer` pour vectoriser ces données."
      ]
    },
    {
      "cell_type": "code",
      "execution_count": null,
      "metadata": {},
      "outputs": [],
      "source": [
        "tfidf_vectorizer = TfidfVectorizer(\n",
        "  analyzer='word',\n",
        "  tokenizer=lambda x: str.split(x, sep=' '), # because the text is already tokenized\n",
        "  token_pattern=None,\n",
        "  lowercase=True,\n",
        "  stop_words=list(fr_stopwords),\n",
        "  min_df=0.01,\n",
        "  max_df=0.95,\n",
        ")\n"
      ]
    },
    {
      "cell_type": "code",
      "execution_count": null,
      "metadata": {},
      "outputs": [],
      "source": [
        "res = tfidf_vectorizer.fit_transform(X_train['synopsis'])\n",
        "bow = pd.DataFrame(res.toarray(), columns=tfidf_vectorizer.get_feature_names_out())\n",
        "print(bow.shape)\n",
        "print(bow.head())"
      ]
    },
    {
      "attachments": {},
      "cell_type": "markdown",
      "metadata": {},
      "source": [
        "Nous pouvons aussi utiliser ce `vectorizer` pour extraire des statistiques sur les données textuelles. Par exemple, la longueur en nombre de caractères, le nombre de phrases, ..."
      ]
    },
    {
      "cell_type": "code",
      "execution_count": null,
      "metadata": {},
      "outputs": [],
      "source": [
        "def make_stats(texts: list[str]) -> list[dict[str, int]]:\n",
        "  r = []\n",
        "  for t in texts:\n",
        "    _ner = get_ner(t)\n",
        "    r.append({\n",
        "      'len': len(t),\n",
        "      'nb_sentences': t.count('.') + t.count('!') + t.count('?'),\n",
        "      'named_entities_org': len([ent for ent in _ner if ent[1] == 'ORG']),\n",
        "      'named_entities_loc': len([ent for ent in _ner if ent[1] == 'LOC']),\n",
        "      'named_entities_per': len([ent for ent in _ner if ent[1] == 'PER']),\n",
        "      'named_entities_misc': len([ent for ent in _ner if ent[1] == 'MISC']),\n",
        "      'named_entities': len(_ner),\n",
        "    })\n",
        "  return r\n",
        "\n",
        "stats_transformer = FunctionTransformer(make_stats, validate=False)\n",
        "stats_vectorizer = DictVectorizer(sparse=False)"
      ]
    },
    {
      "cell_type": "code",
      "execution_count": null,
      "metadata": {},
      "outputs": [],
      "source": [
        "res = stats_vectorizer.fit_transform(stats_transformer.transform(X_train['synopsis']))\n",
        "stats = pd.DataFrame(res, columns=stats_vectorizer.get_feature_names_out())\n",
        "\n",
        "print(stats.shape)\n",
        "print(stats.head())"
      ]
    },
    {
      "attachments": {},
      "cell_type": "markdown",
      "metadata": {},
      "source": [
        "On normalise les données en utilisant `MinMaxScaler` pour les données dans notre dictionnaire"
      ]
    },
    {
      "cell_type": "code",
      "execution_count": null,
      "metadata": {},
      "outputs": [],
      "source": [
        "min_max_scaler = MinMaxScaler()\n",
        "scaled_stats = pd.DataFrame(min_max_scaler.fit_transform(stats), columns=stats.columns)\n",
        "\n",
        "print(scaled_stats.shape)\n",
        "print(scaled_stats.head())"
      ]
    },
    {
      "attachments": {},
      "cell_type": "markdown",
      "metadata": {},
      "source": [
        "On rajoute aussi `CountVectorizer` ainsi que `HashingVectorizer` pour voir si les résultats sont meilleurs."
      ]
    },
    {
      "cell_type": "code",
      "execution_count": null,
      "metadata": {},
      "outputs": [],
      "source": [
        "count_vectorizer = CountVectorizer(\n",
        "  analyzer='word',\n",
        "  tokenizer=lambda x: str.split(x, sep=' '),\n",
        "  token_pattern=None,\n",
        "  lowercase=True,\n",
        "  stop_words=list(fr_stopwords),\n",
        "  min_df=0.01,\n",
        "  max_df=0.95,\n",
        ")\n",
        "\n",
        "# not used here\n",
        "hashing_vectorizer = HashingVectorizer(\n",
        "  analyzer='word',\n",
        "  tokenizer=lambda x: str.split(x, sep=' '),\n",
        "  token_pattern=None,\n",
        "  lowercase=True,\n",
        "  stop_words=list(fr_stopwords),\n",
        "  n_features=1000,\n",
        ")"
      ]
    },
    {
      "cell_type": "code",
      "execution_count": null,
      "metadata": {},
      "outputs": [],
      "source": [
        "res = count_vectorizer.fit_transform(X_train['synopsis'])\n",
        "bow = pd.DataFrame(res.toarray(), columns=count_vectorizer.get_feature_names_out())\n",
        "\n",
        "print(bow.shape)\n",
        "print(bow.head())"
      ]
    },
    {
      "cell_type": "code",
      "execution_count": null,
      "metadata": {},
      "outputs": [],
      "source": [
        "res = hashing_vectorizer.fit_transform(X_train['synopsis'])\n",
        "bow = pd.DataFrame(res.toarray(), columns=[f'feature_{i}' for i in range(1000)])\n",
        "\n",
        "print(bow.shape)\n",
        "print(bow.head())"
      ]
    },
    {
      "attachments": {},
      "cell_type": "markdown",
      "metadata": {},
      "source": [
        "## 4. Création de la pipeline\n",
        "\n",
        "Nous allons maintenant procéder à la création de la pipeline en combinant les chaînes de pré-traitement."
      ]
    },
    {
      "cell_type": "code",
      "execution_count": null,
      "metadata": {},
      "outputs": [],
      "source": [
        "column_transformer = ColumnTransformer(\n",
        "  [\n",
        "    # 'synopsis' column : tf-idf vectorization\n",
        "    ('synopsis', tfidf_vectorizer, 'synopsis'),\n",
        "    # 'titre' column : tf-idf vectorization\n",
        "    ('titre', tfidf_vectorizer, 'titre'),\n",
        "\n",
        "    # 'synopsis' column : stats\n",
        "    ('synopsis_stats', Pipeline([\n",
        "      ('stats_transformer', stats_transformer),\n",
        "      ('stats_vectorizer', stats_vectorizer),\n",
        "      ('min_max_scaler', min_max_scaler),\n",
        "    ]), 'synopsis'),\n",
        "  ],\n",
        "  remainder='drop', # drop the columns not specified\n",
        ")"
      ]
    },
    {
      "cell_type": "code",
      "execution_count": null,
      "metadata": {},
      "outputs": [],
      "source": [
        "# learning\n",
        "classifier_pipeline = make_pipeline(column_transformer, LogisticRegression(max_iter=1000))"
      ]
    },
    {
      "cell_type": "code",
      "execution_count": null,
      "metadata": {},
      "outputs": [],
      "source": [
        "# fit\n",
        "classifier_pipeline.fit(X_train, y_train)"
      ]
    },
    {
      "cell_type": "code",
      "execution_count": null,
      "metadata": {},
      "outputs": [],
      "source": [
        "# predict\n",
        "test: pd.DataFrame = pd.read_csv(os.path.join('data', 'allocine_genres_test.csv'))\n",
        "\n",
        "X_test = test[values]\n",
        "y_test = test['genre']\n",
        "\n",
        "y_pred = classifier_pipeline.predict(X_test)\n",
        "print(classification_report(y_test, y_pred))"
      ]
    },
    {
      "cell_type": "code",
      "execution_count": null,
      "metadata": {},
      "outputs": [],
      "source": [
        "# plot confusion matrix"
      ]
    },
    {
      "attachments": {},
      "cell_type": "markdown",
      "metadata": {},
      "source": [
        "## 5. Validation croisée\n",
        "\n",
        "Nous allons maintenant procéder à la validation croisée de notre modèle. Nous allons utiliser `GridSearchCV` pour tester plusieurs hyperparamètres et choisir les meilleurs.\n",
        "\n",
        "Les imports nécessaires sont effectués dans la cellule suivante."
      ]
    },
    {
      "cell_type": "code",
      "execution_count": null,
      "metadata": {},
      "outputs": [],
      "source": [
        "from sklearn.dummy import DummyClassifier\n",
        "from sklearn.ensemble import RandomForestClassifier\n",
        "from sklearn.model_selection import cross_val_score\n",
        "from sklearn.naive_bayes import MultinomialNB\n",
        "from sklearn.neighbors import KNeighborsClassifier\n",
        "from sklearn.tree import DecisionTreeClassifier\n",
        "\n",
        "models = [\n",
        "  ('Baseline', DummyClassifier(strategy='most_frequent')),\n",
        "  ('Mutinomial NB', MultinomialNB()),\n",
        "  ('CART', DecisionTreeClassifier()),\n",
        "  ('LR', LogisticRegression()),\n",
        "  ('KNN', KNeighborsClassifier()),\n",
        "  ('Random forest', RandomForestClassifier()),\n",
        "]\n",
        "\n",
        "# do cross validation\n",
        "for name, model in models:\n",
        "  print(name)\n",
        "  pipeline = make_pipeline(column_transformer, model)\n",
        "  scores = cross_val_score(pipeline, X_train, y_train, cv=5, scoring='f1_macro')\n",
        "  print(f'  {scores.mean():.3f} +/- {scores.std():.3f}')\n",
        "\n",
        "# do grid search on the best model\n",
        "from sklearn.model_selection import GridSearchCV\n",
        "\n",
        "param_grid = {\n",
        "  'logisticregression__C': [0.1, 1, 10],\n",
        "  'logisticregression__solver': ['lbfgs', 'liblinear'],\n",
        "}\n",
        "\n",
        "grid_search = GridSearchCV(classifier_pipeline, param_grid, cv=5, scoring='f1_macro')\n",
        "grid_search.fit(X_train, y_train)\n",
        "print(grid_search.best_params_)\n",
        "print(grid_search.best_score_)\n",
        "print(grid_search.best_estimator_)\n",
        "print(grid_search.cv_results_)\n"
      ]
    },
    {
      "cell_type": "code",
      "execution_count": null,
      "metadata": {},
      "outputs": [],
      "source": [
        "# augmented file with best classifier\n",
        "test: pd.DataFrame = pd.read_csv(os.path.join('data', 'allocine_genres_test.csv'))\n",
        "new_test = test.copy()\n",
        "num_cols = new_test.shape[1]\n",
        "\n",
        "# add genre_predicted column\n",
        "new_test.insert(num_cols, 'genre_predit', y_pred)\n",
        "\n",
        "# add genre_predicted_proba column\n",
        "# y_pred_proba = classifier_pipeline.predict_proba(X_test)\n",
        "# new_test.insert(num_cols + 1, 'genre_predit_proba', y_pred_proba.max(axis=1))\n",
        "\n",
        "# write the new file\n",
        "new_test.to_csv(os.path.join('data', 'allocine_genres_test_augmented.csv'), index=False)"
      ]
    },
    {
      "attachments": {},
      "cell_type": "markdown",
      "metadata": {},
      "source": [
        "## 6. Passage sur les transformers\n",
        "\n",
        "Nous allons maintenant explorer la piste des transformers. Pour des raisons de reproductibilité, nous allons utiliser des modèles pré-entraînés. Tous les imports nécessaires seront effectués sur les cellules suivantes.\n",
        "\n",
        "Nous allons utiliser le modèle `xlm-roberta-large` pour la classification de nos données. Nous avons besoin pour cela de nouveaux packages :\n",
        "\n",
        "- `transformers`\n",
        "- `torch`\n",
        "- `protobuf`\n",
        "- `sentencepiece`"
      ]
    },
    {
      "cell_type": "code",
      "execution_count": null,
      "metadata": {},
      "outputs": [],
      "source": [
        "import os\n",
        "import sys\n",
        "\n",
        "import torch\n",
        "import pandas as pd\n",
        "import numpy as np\n",
        "import matplotlib.pyplot as plt\n",
        "from sklearn.metrics import ConfusionMatrixDisplay, confusion_matrix\n",
        "from transformers import pipeline\n",
        "from transformers import AutoTokenizer, AutoModelForSequenceClassification, TrainingArguments, Trainer, DataCollatorWithPadding\n",
        "\n",
        "import evaluate\n",
        "from datasets import Dataset, Features, Value, ClassLabel\n",
        "\n",
        "\n",
        "device = torch.device('cuda' if torch.cuda.is_available() else 'cpu')\n",
        "\n",
        "uri = 'xlm-roberta-base'\n",
        "tokenizer = AutoTokenizer.from_pretrained(uri)\n",
        "\n",
        "print(torch.cuda.is_available())"
      ]
    },
    {
      "cell_type": "code",
      "execution_count": null,
      "metadata": {},
      "outputs": [],
      "source": [
        "film_df = pd.read_csv(os.path.join('data', 'allocine_genres_train.csv'), sep=',')\n",
        "candidate_labels: list[str] = film_df.genre.unique().tolist()\n",
        "\n",
        "print(candidate_labels)"
      ]
    },
    {
      "cell_type": "code",
      "execution_count": null,
      "metadata": {},
      "outputs": [],
      "source": [
        "label2id = {label: i for i, label in enumerate(candidate_labels)}\n",
        "id2label = {i: label for i, label in enumerate(candidate_labels)}\n",
        "\n",
        "data_df = pd.DataFrame()\n",
        "\n",
        "data_df['text'] = film_df.titre + ' ' + film_df.synopsis\n",
        "\n",
        "data_df['label'] = film_df.genre.map(label2id)\n",
        "\n",
        "features = Features({'text': Value('string'), 'label': ClassLabel(names=candidate_labels)})\n",
        "data = Dataset.from_pandas(data_df, features=features)\n",
        "\n",
        "data = data.train_test_split(test_size=0.2, shuffle=True, seed=12)\n",
        "\n",
        "print(label2id)\n",
        "print(id2label)"
      ]
    },
    {
      "cell_type": "code",
      "execution_count": null,
      "metadata": {},
      "outputs": [],
      "source": [
        "def preprocess_function(examples):\n",
        "  return tokenizer(examples['text'], padding=True, truncation=True)"
      ]
    },
    {
      "cell_type": "code",
      "execution_count": null,
      "metadata": {},
      "outputs": [],
      "source": [
        "tokenized_data = data.map(preprocess_function, batched=True, batch_size=None)"
      ]
    },
    {
      "cell_type": "code",
      "execution_count": null,
      "metadata": {},
      "outputs": [],
      "source": [
        "tokens = tokenizer.convert_ids_to_tokens(tokenized_data['train'][0]['input_ids'])\n",
        "print(tokenized_data['train'][0]['text'])\n",
        "print(tokens)"
      ]
    },
    {
      "cell_type": "code",
      "execution_count": null,
      "metadata": {},
      "outputs": [],
      "source": [
        "batch = 8\n",
        "accuracy = evaluate.load('accuracy')"
      ]
    },
    {
      "cell_type": "code",
      "execution_count": null,
      "metadata": {},
      "outputs": [],
      "source": [
        "def compute_metrics(eval_pred):\n",
        "  predictions, labels = eval_pred\n",
        "  predictions = np.argmax(predictions, axis=1)\n",
        "  acc = accuracy.compute(predictions=predictions, references=labels)\n",
        "  return acc"
      ]
    },
    {
      "cell_type": "code",
      "execution_count": null,
      "metadata": {},
      "outputs": [],
      "source": [
        "model = AutoModelForSequenceClassification.from_pretrained(\n",
        "  uri,\n",
        "  num_labels=len(candidate_labels),\n",
        "  id2label=id2label,\n",
        "  label2id=label2id,\n",
        ").to(device)\n"
      ]
    },
    {
      "cell_type": "code",
      "execution_count": null,
      "metadata": {},
      "outputs": [],
      "source": [
        "# make model\n",
        "from sklearn.pipeline import make_pipeline\n",
        "from sklearn.metrics import classification_report\n",
        "\n",
        "import tqdm\n",
        "\n",
        "training_args = TrainingArguments(\n",
        "  output_dir='results',                  # output directory\n",
        "  learning_rate=2e-5,                    # learning rate\n",
        "  per_device_train_batch_size=batch,     # batch size per device during training\n",
        "  per_device_eval_batch_size=batch,      # batch size for evaluation\n",
        "  num_train_epochs=6,                    # total number of training epochs\n",
        "  weight_decay=0.01,                     # strength of weight decay\n",
        "  evaluation_strategy='epoch',\n",
        "  save_strategy='epoch',\n",
        "  load_best_model_at_end=True,\n",
        ")\n",
        "data_collator = DataCollatorWithPadding(tokenizer=tokenizer)\n",
        "trainer = Trainer(\n",
        "  model=model,                           # the instantiated 🤗 Transformers model to be trained\n",
        "  args=training_args,                    # training arguments, defined above\n",
        "  train_dataset=tokenized_data['train'], # training dataset\n",
        "  eval_dataset=tokenized_data['test'],   # evaluation dataset\n",
        "  tokenizer=tokenizer,\n",
        "  data_collator=data_collator,\n",
        "  compute_metrics=compute_metrics,\n",
        ")"
      ]
    },
    {
      "cell_type": "code",
      "execution_count": null,
      "metadata": {},
      "outputs": [],
      "source": [
        "# learning\n",
        "\n",
        "# takes about 21 minutes (i9-13900h,  32GB RAM, RTX 4060 8GB , laptop)  (batch=2)\n",
        "#             11 minutes (r9-5950x , 128GB RAM, RTX 3090 24GB, desktop) (batch=8)\n",
        "trainer.train()"
      ]
    },
    {
      "attachments": {},
      "cell_type": "markdown",
      "metadata": {},
      "source": [
        "# 7. Résultats et analyse\n",
        "\n",
        "Nous allons maintenant analyser les résultats obtenus et voir si nous pouvons améliorer notre modèle."
      ]
    },
    {
      "cell_type": "code",
      "execution_count": null,
      "metadata": {},
      "outputs": [],
      "source": [
        "preds_output = trainer.predict(tokenized_data['test'])\n",
        "print(preds_output.metrics)"
      ]
    },
    {
      "attachments": {},
      "cell_type": "markdown",
      "metadata": {},
      "source": [
        "On va afficher la matrice de confusion pour voir les résultats obtenus."
      ]
    },
    {
      "cell_type": "code",
      "execution_count": null,
      "metadata": {},
      "outputs": [],
      "source": [
        "y_preds = np.argmax(preds_output.predictions, axis=1)\n",
        "y_valid = tokenized_data['test']['label']\n",
        "labels = tokenized_data['test'].features['label'].names"
      ]
    },
    {
      "cell_type": "code",
      "execution_count": null,
      "metadata": {},
      "outputs": [],
      "source": [
        "def plot_confusion_matrix(y_preds, y_true, labels):\n",
        "    cm = confusion_matrix(y_true, y_preds, normalize='true')\n",
        "    fig, ax = plt.subplots(figsize=(6, 6))\n",
        "    labels_for_fig = [l[0:4]+'.' for l in labels]\n",
        "    disp = ConfusionMatrixDisplay(confusion_matrix=cm, \n",
        "                                  display_labels=labels_for_fig)\n",
        "    disp.plot(cmap='Blues', values_format='.2f', ax=ax, colorbar=False)\n",
        "    plt.title('Normalized confusion matrix')\n",
        "    plt.show()\n",
        "    \n",
        "plot_confusion_matrix(y_preds, y_valid, labels)"
      ]
    },
    {
      "attachments": {},
      "cell_type": "markdown",
      "metadata": {},
      "source": [
        "On remarque déjà que les résultats sont meilleurs qu'avec la classification basique. On remarque aussi que les genres les plus représentés sont les mieux classifiés. Cela est dû au fait que le modèle a plus de données pour apprendre à les classer.\n",
        "\n",
        "On va maintenant afficher les scores de classification pour chaque genre."
      ]
    },
    {
      "cell_type": "code",
      "execution_count": null,
      "metadata": {},
      "outputs": [],
      "source": [
        "from torch.nn.functional import cross_entropy\n",
        "\n",
        "\n",
        "def forward_pass_with_label(batch):\n",
        "  inputs = {k: v.to(device) for k, v in batch.items() if k in tokenizer.model_input_names}\n",
        "\n",
        "  with torch.no_grad():\n",
        "    output = model(**inputs)\n",
        "    pred_label = torch.argmax(output.logits, axis=-1)\n",
        "    loss = cross_entropy(output.logits, batch['label'].to(device), reduction='none')\n",
        "  return {'loss': loss.cpu().numpy(), 'predicted_label': pred_label.cpu().numpy()}\n"
      ]
    },
    {
      "cell_type": "code",
      "execution_count": null,
      "metadata": {},
      "outputs": [],
      "source": [
        "tokenized_data.set_format('torch', columns=['input_ids', 'attention_mask', 'label'])\n",
        "tokenized_data['test'] = tokenized_data['test'].map(forward_pass_with_label, batched=True, batch_size=64)\n"
      ]
    },
    {
      "cell_type": "code",
      "execution_count": null,
      "metadata": {},
      "outputs": [],
      "source": [
        "def label_int2str(row):\n",
        "  return tokenized_data['train'].features['label'].int2str(row)\n",
        "\n",
        "\n",
        "tokenized_data.set_format('pandas')\n",
        "cols = ['text', 'label', 'predicted_label', 'loss']\n",
        "df_test = tokenized_data['test'][:][cols]\n",
        "df_test['label'] = df_test['label'].apply(label_int2str)\n",
        "df_test['predicted_label'] = (df_test['predicted_label'].apply(label_int2str))\n"
      ]
    },
    {
      "cell_type": "code",
      "execution_count": null,
      "metadata": {},
      "outputs": [],
      "source": [
        "pd.set_option('display.max_colwidth', None)\n",
        "print(df_test.sort_values('loss', ascending=False).head(10))\n",
        "print(df_test.sort_values('loss', ascending=True).head(10))"
      ]
    },
    {
      "attachments": {},
      "cell_type": "markdown",
      "metadata": {},
      "source": [
        "## 8. Nouvelle augmentation des données\n",
        "\n",
        "Étant donné que le transformer a obtenu de bien meilleurs scores, nous allons l'utiliser pour augmenter nos données avec un genre prédit."
      ]
    },
    {
      "cell_type": "code",
      "execution_count": null,
      "metadata": {},
      "outputs": [],
      "source": [
        "film_df = pd.read_csv(os.path.join('data', 'allocine_genres_test.csv'), sep=',')\n",
        "\n",
        "data_df = pd.DataFrame()\n",
        "\n",
        "data_df['text'] = film_df.titre + ' ' + film_df.synopsis\n",
        "\n",
        "data_df['label'] = film_df.genre.map(label2id)\n",
        "\n",
        "features = Features({'text': Value('string'), 'label': ClassLabel(names=candidate_labels)})\n",
        "data = Dataset.from_pandas(data_df, features=features)"
      ]
    },
    {
      "cell_type": "code",
      "execution_count": null,
      "metadata": {},
      "outputs": [],
      "source": [
        "tokenized_data = data.map(preprocess_function, batched=False, batch_size=None)\n",
        "preds_output = trainer.predict(tokenized_data)\n",
        "y_preds = np.argmax(preds_output.predictions, axis=1)\n",
        "\n",
        "\n",
        "def label_int2str(row):\n",
        "  return tokenized_data.features['label'].int2str(row)\n"
      ]
    },
    {
      "cell_type": "code",
      "execution_count": null,
      "metadata": {},
      "outputs": [],
      "source": [
        "pred_label = []\n",
        "for row in y_preds:\n",
        "  pred_label.append(label_int2str(int(row)))"
      ]
    },
    {
      "cell_type": "code",
      "execution_count": null,
      "metadata": {},
      "outputs": [],
      "source": [
        "film_df_copy = film_df.copy()\n",
        "num_cols = film_df_copy.shape[1]\n",
        "film_df_copy.insert(num_cols, 'genre_predit', pred_label)\n",
        "film_df_copy.to_csv(os.path.join('data', 'allocine_genres_test_augmented.csv'), index=False)"
      ]
    }
  ],
  "metadata": {
    "kernelspec": {
      "display_name": "Python 3",
      "language": "python",
      "name": "python3"
    },
    "language_info": {
      "codemirror_mode": {
        "name": "ipython",
        "version": 3
      },
      "file_extension": ".py",
      "mimetype": "text/x-python",
      "name": "python",
      "nbconvert_exporter": "python",
      "pygments_lexer": "ipython3",
      "version": "3.11.3"
    },
    "orig_nbformat": 4
  },
  "nbformat": 4,
  "nbformat_minor": 2
}
