{
  "cells": [
    {
      "attachments": {},
      "cell_type": "markdown",
      "metadata": {},
      "source": [
        "# Projet : Traitement Automatique des Langues (Partie 1)\n",
        "\n",
        "Nous avons à notre disposition deux fichiers CSV ([allocine_genres_test.csv](data/allocine_genres_test.csv) et [allocine_genres_train.csv](data/allocine_genres_train.csv)) contenant des informations sur des films et leurs genres. Le but de ce projet est de prédire les genres d'un film à partir de son synopsis notamment (et d'autres informations).\n",
        "\n",
        "L’objectif est d’entraîner un outil de classification automatique des films en fonction de leur genre. La classification doit se baser sur le texte de la synopsis et sur le titre des films. Le texte et le titre des articles ont déjà été tokenisés et tous les tokens sont séparés par un espace."
      ]
    },
    {
      "attachments": {},
      "cell_type": "markdown",
      "metadata": {},
      "source": [
        "## 1. Importation des données et analyse exploratoire\n",
        "\n",
        "Les données sont disponibles dans le dossier [data](data/). Nous allons commencer par importer les données et les analyser."
      ]
    },
    {
      "cell_type": "code",
      "execution_count": 1,
      "metadata": {
        "tags": []
      },
      "outputs": [],
      "source": [
        "%%capture\n",
        "\n",
        "# exécuter cette cellule pour installer les dépendances et télécharger les modèles spacy\n",
        "# remplacer `python` par `python3` si nécessaire\n",
        "!python -m pip install --upgrade -r requirements.txt\n",
        "!python -m spacy download fr_core_news_sm"
      ]
    },
    {
      "cell_type": "code",
      "execution_count": 1,
      "metadata": {},
      "outputs": [],
      "source": [
        "import os\n",
        "import sys\n",
        "\n",
        "import random\n",
        "import pandas as pd\n",
        "import numpy as np\n",
        "import matplotlib.pyplot as plt\n",
        "\n",
        "import nltk\n",
        "import spacy\n",
        "\n",
        "from nltk.corpus import stopwords\n",
        "from nltk.stem.snowball import FrenchStemmer\n",
        "from spacy import displacy\n",
        "\n",
        "from sklearn.model_selection import train_test_split\n",
        "from sklearn.feature_extraction import DictVectorizer\n",
        "from sklearn.feature_extraction.text import TfidfVectorizer\n",
        "from sklearn.preprocessing import FunctionTransformer, MinMaxScaler\n",
        "from sklearn.preprocessing import OneHotEncoder\n",
        "from sklearn.metrics import classification_report, f1_score, accuracy_score, confusion_matrix\n",
        "\n",
        "from sklearn.compose import ColumnTransformer\n",
        "from sklearn.pipeline import Pipeline, FeatureUnion, make_pipeline\n",
        "from sklearn.linear_model import LogisticRegression\n",
        "\n",
        "train: pd.DataFrame = pd.read_csv(os.path.join('data', 'allocine_genres_train.csv'))"
      ]
    },
    {
      "cell_type": "code",
      "execution_count": 2,
      "metadata": {},
      "outputs": [
        {
          "name": "stdout",
          "output_type": "stream",
          "text": [
            "(2875, 22)\n",
            "   Unnamed: 0         acteur_1           acteur_2           acteur_3   \n",
            "0        4772    Albert Finney      Lauren Bacall  Jacqueline Bisset  \\\n",
            "1         335      Henry Fonda      Martin Balsam       John Fiedler   \n",
            "2        4860   Alexandra Lamy  Michaël Abiteboul       Julia Piaton   \n",
            "3        1913  Charles Chaplin  Virginia Cherrill        Harry Myers   \n",
            "4        3726   Robert De Niro   Cuba Gooding Jr.    Charlize Theron   \n",
            "\n",
            "   allocine_id  annee_prod  annee_sortie  box_office_fr  couleur  duree  ...   \n",
            "0         1453        1974        1975.0       549055.0  Couleur  128.0  ...  \\\n",
            "1         4063        1957        1957.0            NaN      NaN   95.0  ...   \n",
            "2       241952        2016        2019.0            NaN  Couleur   90.0  ...   \n",
            "3         2256        1931        1931.0            NaN      NaN   87.0  ...   \n",
            "4        27434        2000        2001.0       221677.0  Couleur  129.0  ...   \n",
            "\n",
            "  nb_critiques_presse nb_critiques_spectateurs  nb_notes_spectateurs   \n",
            "0                 NaN                    125.0                2045.0  \\\n",
            "1                 7.0                    771.0               18670.0   \n",
            "2                 NaN                     22.0                 242.0   \n",
            "3                 4.0                    190.0                6185.0   \n",
            "4                17.0                    104.0                1619.0   \n",
            "\n",
            "   note_presse  note_spectateurs        realisateurs   \n",
            "0          NaN               3.7        Sidney Lumet  \\\n",
            "1          5.0               4.6        Sidney Lumet   \n",
            "2          NaN               4.2       Nicolas Cuche   \n",
            "3          4.5               4.4     Charles Chaplin   \n",
            "4          2.4               3.6  George Tillman Jr.   \n",
            "\n",
            "                                            synopsis   \n",
            "0  En visite à Istanbul , le célèbre détective be...  \\\n",
            "1  Un jeune homme d' origine modeste est accusé d...   \n",
            "2  Lorsque Marie-Laure , mère de quatre jeunes en...   \n",
            "3  Un vagabond s’ éprend d’ une belle et jeune ve...   \n",
            "4  L' histoire vraie de Carl Brashear , premier A...   \n",
            "\n",
            "                             titre     type_film     genre  \n",
            "0  Le Crime de l' Orient - Express           NaN  policier  \n",
            "1              12 hommes en colère           NaN     drame  \n",
            "2             Après moi le bonheur      Télefilm     drame  \n",
            "3         Les Lumières de la ville           NaN   romance  \n",
            "4        Les Chemins de la dignité  Long-métrage    biopic  \n",
            "\n",
            "[5 rows x 22 columns]\n"
          ]
        }
      ],
      "source": [
        "print(train.shape)\n",
        "print(train.head())"
      ]
    },
    {
      "cell_type": "code",
      "execution_count": 3,
      "metadata": {},
      "outputs": [
        {
          "name": "stdout",
          "output_type": "stream",
          "text": [
            "genre\n",
            "drame              501\n",
            "comédie            483\n",
            "romance            443\n",
            "policier           331\n",
            "horreur            299\n",
            "science fiction    298\n",
            "biopic             191\n",
            "documentaire       167\n",
            "historique         162\n",
            "Name: count, dtype: int64\n",
            "\n",
            "Sète , 1994 . Amin , apprenti scénariste installé à Paris , retourne un été dans sa ville natale , pour retrouver famille et amis d’ enfance . Accompagné de son cousin Tony et de sa meilleure amie Ophélie , Amin passe son temps entre le restaurant de spécialités tunisiennes tenu par ses parents , les bars de quartier , et la plage fréquentée par les filles en vacances . Fasciné par les nombreuses figures féminines qui l’ entourent , Amin reste en retrait et contemple ces sirènes de l’ été , contrairement à son cousin qui se jette dans l’ ivresse des corps . Mais quand vient le temps d’ aimer , seul le destin - le mektoub - peut décider .\n"
          ]
        }
      ],
      "source": [
        "print(train['genre'].value_counts(), end='\\n\\n')\n",
        "print(random.choice(train['synopsis'].unique()))"
      ]
    },
    {
      "attachments": {},
      "cell_type": "markdown",
      "metadata": {},
      "source": [
        "On remarque déjà que les donnés chiffrées sont soit des entiers soit des flottants. Les données textuelles sont des chaînes de caractères. Certaines données sont manquantes : `NaN` dans le cas des données chiffrées et une chaîne vide dans le cas des données textuelles.\n",
        "\n",
        "Pour traiter les données manquantes, nous avons deux solutions :\n",
        "\n",
        "1. Dans le cas où il y a très peu de données manquantes, on peut simplement supprimer les entrées qui contiennent ces données manquantes. Cela peut être acceptable si le nombre de données manquantes est très faible par rapport à la taille de l'ensemble de données et que la suppression de ces entrées n'affecte pas significativement les résultats de l'analyse.\n",
        "2. En revanche, si le nombre de données manquantes est important, la suppression de ces entrées pourrait entraîner une perte d'informations importantes pour l'analyse. Dans ce cas, il est généralement préférable de remplacer les valeurs manquantes par une valeur qui représente au mieux l'information manquante. Par exemple, si les données manquantes sont des scores au box-office, vous pouvez remplacer ces données manquantes par la moyenne ou la médiane des scores de box-office disponibles dans les données.\n"
      ]
    },
    {
      "cell_type": "code",
      "execution_count": 4,
      "metadata": {},
      "outputs": [
        {
          "name": "stdout",
          "output_type": "stream",
          "text": [
            "(891, 22)\n",
            "(2875, 22)\n"
          ]
        }
      ],
      "source": [
        "EMPTY_TOKEN = '<EMPTY>'\n",
        "\n",
        "# remove rows with missing values\n",
        "train_dataset_1 = train.dropna(how='any', inplace=False)\n",
        "\n",
        "# replace missing values with either the mean or the median (or empty token)\n",
        "list_headers = train.columns.values.tolist()\n",
        "list_of_numerical_headers = train._get_numeric_data().columns.values.tolist()\n",
        "list_of_categorical_headers = list(set(list_headers) - set(list_of_numerical_headers))\n",
        "\n",
        "train_dataset_2 = train.copy()\n",
        "for header in list_of_numerical_headers:\n",
        "  train_dataset_2[header].fillna(train_dataset_2[header].median(), inplace=True)\n",
        "for header in list_of_categorical_headers:\n",
        "  train_dataset_2[header].fillna(EMPTY_TOKEN, inplace=True)\n",
        "\n",
        "print(train_dataset_1.shape)\n",
        "print(train_dataset_2.shape)"
      ]
    },
    {
      "attachments": {},
      "cell_type": "markdown",
      "metadata": {},
      "source": [
        "Lorsqu'on supprime simplement toutes les entrées où il manque au moins une valeur, on se retrouve uniquement avec 891 valeurs en tout. Cela signifie que nous avons perdu beaucoup d'informations. Nous allons donc utiliser la deuxième solution (au moins dans un premier temps) et remplacer les valeurs manquantes par des valeurs qui représentent au mieux l'information manquante."
      ]
    },
    {
      "attachments": {},
      "cell_type": "markdown",
      "metadata": {},
      "source": [
        "## 2. Prétraitement des données\n",
        "\n",
        "Il faut aussi corriger les entrées textuelles, ainsi qu'appliquer un certain nombre d'algorithmes de prétraitement comme : la suppression des caractères spéciaux, la suppression des stop words, la suppression des mots trop fréquents ou trop rares, la lemmatisation, la suppression des mots trop longs, etc.\n",
        "\n",
        "On définit donc un ensemble de fonctions et de filtres qui vont nous permettre de prétraiter les données textuelles."
      ]
    },
    {
      "cell_type": "code",
      "execution_count": 5,
      "metadata": {},
      "outputs": [],
      "source": [
        "nltk.download('stopwords', quiet=True)        # download the stopwords corpus\n",
        "nlp = spacy.load('fr_core_news_sm')           # load the French model\n",
        "fr_stopwords = set(stopwords.words('french')) # so that `in` tests are faster\n",
        "stemmer = FrenchStemmer()                     # for stemming words\n",
        "\n",
        "\n",
        "# get the tokens of a sentence (word based tokenization)\n",
        "def get_tokens_words(text: str) -> list[str]:\n",
        "  doc = nlp(text)\n",
        "  return [w.text for w in doc]\n",
        "\n",
        "\n",
        "# remove stopwords from a sentence\n",
        "def clean_sentence(text: str) -> list[str]:\n",
        "  clean_words: list[str] = []\n",
        "  for token in get_tokens_words(text):\n",
        "    if token not in fr_stopwords:\n",
        "      clean_words.append(token)\n",
        "  return clean_words\n",
        "\n",
        "\n",
        "# get the tokens of multiple sentences (sentence based tokenization)\n",
        "def get_tokens_sentences(text: str) -> list[str]:\n",
        "  doc = nlp(text)\n",
        "  return [s.text for s in doc.sents]\n",
        "\n",
        "\n",
        "# get the lemmas of a sentence\n",
        "def get_stem(text: str) -> list[str]:\n",
        "  doc = nlp(text)\n",
        "  return [stemmer.stem(w.text) for w in doc]\n",
        "\n",
        "\n",
        "# get the named entities of a sentence\n",
        "def get_ner(text: str) -> list[str]:\n",
        "  doc = nlp(text)\n",
        "  return [(ent.text, ent.label_) for ent in doc.ents]\n",
        "\n",
        "\n",
        "# render the named entities of a sentence in a Jupyter notebook\n",
        "def render_ner(text: str) -> None:\n",
        "  doc = nlp(text)\n",
        "  displacy.render(doc, style='ent', jupyter=True)\n",
        "\n",
        "\n",
        "# get the part of speech of a sentence\n",
        "def get_pos(text: str) -> list[str]:\n",
        "  doc = nlp(text)\n",
        "  return [(token, token.pos_) for token in doc]\n",
        "\n",
        "\n",
        "# render the part of speech of a sentence in a Jupyter notebook\n",
        "def render_pos(text: str) -> None:\n",
        "  doc = nlp(text)\n",
        "  displacy.render(doc, style='dep', options={'distance': 90})\n",
        "\n",
        "\n",
        "# get the word embeddings of a sentence\n",
        "def get_word_embeddings(text: str) -> list[np.ndarray]:\n",
        "  doc = nlp(text)\n",
        "  return [token.vector for token in doc]\n",
        "\n",
        "\n",
        "# get the similarity between two sentences\n",
        "def get_mean_embedding(text1: str, text2: str) -> float:\n",
        "  doc1 = nlp(text1)\n",
        "  doc2 = nlp(text2)\n",
        "  mean1 = np.mean([token.vector for token in doc1], axis=0)\n",
        "  mean2 = np.mean([token.vector for token in doc2], axis=0)\n",
        "\n",
        "  return np.dot(mean1, mean2) / (np.linalg.norm(mean1) * np.linalg.norm(mean2))"
      ]
    },
    {
      "attachments": {},
      "cell_type": "markdown",
      "metadata": {},
      "source": [
        "Juste pour clarifier les choses, nous allons simplement effectuer des tests sur l'ensemble de phrases suivantes :\n",
        "\n",
        "1. \"Le réseau sera bientôt rétabli à Marseille\"\n",
        "2. \"La panne réseau affecte plusieurs utilisateurs de l'opérateur\"\n",
        "3. \"Il fait 18 degrés ici\"\n",
        "4. \"Bouygues a eu une coupure de réseau à Marseille. La panne a affecté 300.000 utilisateurs.\""
      ]
    },
    {
      "cell_type": "code",
      "execution_count": 6,
      "metadata": {},
      "outputs": [],
      "source": [
        "text1 = 'Le réseau sera bientôt rétabli à Marseille.'\n",
        "text2 = 'La panne réseau affecte plusieurs utilisateurs de l\\'opérateur'\n",
        "text3 = 'Il fait 18 degrés ici'\n",
        "text4 = 'Bouygues a eu une coupure de réseau à Marseille. La panne a affecté 300.000 utilisateurs.'"
      ]
    },
    {
      "cell_type": "code",
      "execution_count": 7,
      "metadata": {},
      "outputs": [
        {
          "name": "stdout",
          "output_type": "stream",
          "text": [
            "['Le', 'réseau', 'sera', 'bientôt', 'rétabli', 'à', 'Marseille', '.']\n",
            "['Le', 'réseau', 'bientôt', 'rétabli', 'Marseille', '.']\n",
            "['Bouygues a eu une coupure de réseau à Marseille.', 'La panne a affecté 300.000 utilisateurs.']\n"
          ]
        }
      ],
      "source": [
        "# basic tokenization\n",
        "# we can observe `get_tokens_sentences` do not \"cut\" at each . or ! or ?\n",
        "\n",
        "print(get_tokens_words(text1))\n",
        "print(clean_sentence(text1))\n",
        "print(get_tokens_sentences(text4))"
      ]
    },
    {
      "cell_type": "code",
      "execution_count": 8,
      "metadata": {},
      "outputs": [
        {
          "name": "stdout",
          "output_type": "stream",
          "text": [
            "['le', 'réseau', 'ser', 'bientôt', 'rétabl', 'à', 'marseil', '.']\n",
            "['la', 'pann', 'réseau', 'affect', 'plusieur', 'utilis', 'de', \"l'\", 'oper']\n"
          ]
        }
      ],
      "source": [
        "# stemming\n",
        "# this doesn't work very well for French...\n",
        "\n",
        "print(get_stem(text1))\n",
        "print(get_stem(text2))"
      ]
    },
    {
      "cell_type": "code",
      "execution_count": 9,
      "metadata": {},
      "outputs": [
        {
          "name": "stdout",
          "output_type": "stream",
          "text": [
            "[('Bouygues', 'ORG'), ('Marseille', 'LOC')]\n"
          ]
        },
        {
          "data": {
            "text/html": [
              "<span class=\"tex2jax_ignore\"><div class=\"entities\" style=\"line-height: 2.5; direction: ltr\">\n",
              "<mark class=\"entity\" style=\"background: #7aecec; padding: 0.45em 0.6em; margin: 0 0.25em; line-height: 1; border-radius: 0.35em;\">\n",
              "    Bouygues\n",
              "    <span style=\"font-size: 0.8em; font-weight: bold; line-height: 1; border-radius: 0.35em; vertical-align: middle; margin-left: 0.5rem\">ORG</span>\n",
              "</mark>\n",
              " a eu une coupure de réseau à \n",
              "<mark class=\"entity\" style=\"background: #ff9561; padding: 0.45em 0.6em; margin: 0 0.25em; line-height: 1; border-radius: 0.35em;\">\n",
              "    Marseille\n",
              "    <span style=\"font-size: 0.8em; font-weight: bold; line-height: 1; border-radius: 0.35em; vertical-align: middle; margin-left: 0.5rem\">LOC</span>\n",
              "</mark>\n",
              ". La panne a affecté 300.000 utilisateurs.</div></span>"
            ],
            "text/plain": [
              "<IPython.core.display.HTML object>"
            ]
          },
          "metadata": {},
          "output_type": "display_data"
        }
      ],
      "source": [
        "# named entities recognition\n",
        "\n",
        "print(get_ner(text4))\n",
        "render_ner(text4)"
      ]
    },
    {
      "cell_type": "code",
      "execution_count": 10,
      "metadata": {},
      "outputs": [
        {
          "name": "stdout",
          "output_type": "stream",
          "text": [
            "[(Le, 'DET'), (réseau, 'NOUN'), (sera, 'AUX'), (bientôt, 'ADV'), (rétabli, 'ADJ'), (à, 'ADP'), (Marseille, 'PROPN'), (., 'PUNCT')]\n"
          ]
        },
        {
          "data": {
            "text/html": [
              "<span class=\"tex2jax_ignore\"><svg xmlns=\"http://www.w3.org/2000/svg\" xmlns:xlink=\"http://www.w3.org/1999/xlink\" xml:lang=\"fr\" id=\"6145b2e953a74909bbc09f8529fab54e-0\" class=\"displacy\" width=\"680\" height=\"272.0\" direction=\"ltr\" style=\"max-width: none; height: 272.0px; color: #000000; background: #ffffff; font-family: Arial; direction: ltr\">\n",
              "<text class=\"displacy-token\" fill=\"currentColor\" text-anchor=\"middle\" y=\"182.0\">\n",
              "    <tspan class=\"displacy-word\" fill=\"currentColor\" x=\"50\">Le</tspan>\n",
              "    <tspan class=\"displacy-tag\" dy=\"2em\" fill=\"currentColor\" x=\"50\">DET</tspan>\n",
              "</text>\n",
              "\n",
              "<text class=\"displacy-token\" fill=\"currentColor\" text-anchor=\"middle\" y=\"182.0\">\n",
              "    <tspan class=\"displacy-word\" fill=\"currentColor\" x=\"140\">réseau</tspan>\n",
              "    <tspan class=\"displacy-tag\" dy=\"2em\" fill=\"currentColor\" x=\"140\">NOUN</tspan>\n",
              "</text>\n",
              "\n",
              "<text class=\"displacy-token\" fill=\"currentColor\" text-anchor=\"middle\" y=\"182.0\">\n",
              "    <tspan class=\"displacy-word\" fill=\"currentColor\" x=\"230\">sera</tspan>\n",
              "    <tspan class=\"displacy-tag\" dy=\"2em\" fill=\"currentColor\" x=\"230\">AUX</tspan>\n",
              "</text>\n",
              "\n",
              "<text class=\"displacy-token\" fill=\"currentColor\" text-anchor=\"middle\" y=\"182.0\">\n",
              "    <tspan class=\"displacy-word\" fill=\"currentColor\" x=\"320\">bientôt</tspan>\n",
              "    <tspan class=\"displacy-tag\" dy=\"2em\" fill=\"currentColor\" x=\"320\">ADV</tspan>\n",
              "</text>\n",
              "\n",
              "<text class=\"displacy-token\" fill=\"currentColor\" text-anchor=\"middle\" y=\"182.0\">\n",
              "    <tspan class=\"displacy-word\" fill=\"currentColor\" x=\"410\">rétabli</tspan>\n",
              "    <tspan class=\"displacy-tag\" dy=\"2em\" fill=\"currentColor\" x=\"410\">ADJ</tspan>\n",
              "</text>\n",
              "\n",
              "<text class=\"displacy-token\" fill=\"currentColor\" text-anchor=\"middle\" y=\"182.0\">\n",
              "    <tspan class=\"displacy-word\" fill=\"currentColor\" x=\"500\">à</tspan>\n",
              "    <tspan class=\"displacy-tag\" dy=\"2em\" fill=\"currentColor\" x=\"500\">ADP</tspan>\n",
              "</text>\n",
              "\n",
              "<text class=\"displacy-token\" fill=\"currentColor\" text-anchor=\"middle\" y=\"182.0\">\n",
              "    <tspan class=\"displacy-word\" fill=\"currentColor\" x=\"590\">Marseille.</tspan>\n",
              "    <tspan class=\"displacy-tag\" dy=\"2em\" fill=\"currentColor\" x=\"590\">PROPN</tspan>\n",
              "</text>\n",
              "\n",
              "<g class=\"displacy-arrow\">\n",
              "    <path class=\"displacy-arc\" id=\"arrow-6145b2e953a74909bbc09f8529fab54e-0-0\" stroke-width=\"2px\" d=\"M70,137.0 C70,92.0 130.0,92.0 130.0,137.0\" fill=\"none\" stroke=\"currentColor\"/>\n",
              "    <text dy=\"1.25em\" style=\"font-size: 0.8em; letter-spacing: 1px\">\n",
              "        <textPath xlink:href=\"#arrow-6145b2e953a74909bbc09f8529fab54e-0-0\" class=\"displacy-label\" startOffset=\"50%\" side=\"left\" fill=\"currentColor\" text-anchor=\"middle\">det</textPath>\n",
              "    </text>\n",
              "    <path class=\"displacy-arrowhead\" d=\"M70,139.0 L62,127.0 78,127.0\" fill=\"currentColor\"/>\n",
              "</g>\n",
              "\n",
              "<g class=\"displacy-arrow\">\n",
              "    <path class=\"displacy-arc\" id=\"arrow-6145b2e953a74909bbc09f8529fab54e-0-1\" stroke-width=\"2px\" d=\"M160,137.0 C160,2.0 410.0,2.0 410.0,137.0\" fill=\"none\" stroke=\"currentColor\"/>\n",
              "    <text dy=\"1.25em\" style=\"font-size: 0.8em; letter-spacing: 1px\">\n",
              "        <textPath xlink:href=\"#arrow-6145b2e953a74909bbc09f8529fab54e-0-1\" class=\"displacy-label\" startOffset=\"50%\" side=\"left\" fill=\"currentColor\" text-anchor=\"middle\">nsubj</textPath>\n",
              "    </text>\n",
              "    <path class=\"displacy-arrowhead\" d=\"M160,139.0 L152,127.0 168,127.0\" fill=\"currentColor\"/>\n",
              "</g>\n",
              "\n",
              "<g class=\"displacy-arrow\">\n",
              "    <path class=\"displacy-arc\" id=\"arrow-6145b2e953a74909bbc09f8529fab54e-0-2\" stroke-width=\"2px\" d=\"M250,137.0 C250,47.0 405.0,47.0 405.0,137.0\" fill=\"none\" stroke=\"currentColor\"/>\n",
              "    <text dy=\"1.25em\" style=\"font-size: 0.8em; letter-spacing: 1px\">\n",
              "        <textPath xlink:href=\"#arrow-6145b2e953a74909bbc09f8529fab54e-0-2\" class=\"displacy-label\" startOffset=\"50%\" side=\"left\" fill=\"currentColor\" text-anchor=\"middle\">cop</textPath>\n",
              "    </text>\n",
              "    <path class=\"displacy-arrowhead\" d=\"M250,139.0 L242,127.0 258,127.0\" fill=\"currentColor\"/>\n",
              "</g>\n",
              "\n",
              "<g class=\"displacy-arrow\">\n",
              "    <path class=\"displacy-arc\" id=\"arrow-6145b2e953a74909bbc09f8529fab54e-0-3\" stroke-width=\"2px\" d=\"M340,137.0 C340,92.0 400.0,92.0 400.0,137.0\" fill=\"none\" stroke=\"currentColor\"/>\n",
              "    <text dy=\"1.25em\" style=\"font-size: 0.8em; letter-spacing: 1px\">\n",
              "        <textPath xlink:href=\"#arrow-6145b2e953a74909bbc09f8529fab54e-0-3\" class=\"displacy-label\" startOffset=\"50%\" side=\"left\" fill=\"currentColor\" text-anchor=\"middle\">advmod</textPath>\n",
              "    </text>\n",
              "    <path class=\"displacy-arrowhead\" d=\"M340,139.0 L332,127.0 348,127.0\" fill=\"currentColor\"/>\n",
              "</g>\n",
              "\n",
              "<g class=\"displacy-arrow\">\n",
              "    <path class=\"displacy-arc\" id=\"arrow-6145b2e953a74909bbc09f8529fab54e-0-4\" stroke-width=\"2px\" d=\"M520,137.0 C520,92.0 580.0,92.0 580.0,137.0\" fill=\"none\" stroke=\"currentColor\"/>\n",
              "    <text dy=\"1.25em\" style=\"font-size: 0.8em; letter-spacing: 1px\">\n",
              "        <textPath xlink:href=\"#arrow-6145b2e953a74909bbc09f8529fab54e-0-4\" class=\"displacy-label\" startOffset=\"50%\" side=\"left\" fill=\"currentColor\" text-anchor=\"middle\">case</textPath>\n",
              "    </text>\n",
              "    <path class=\"displacy-arrowhead\" d=\"M520,139.0 L512,127.0 528,127.0\" fill=\"currentColor\"/>\n",
              "</g>\n",
              "\n",
              "<g class=\"displacy-arrow\">\n",
              "    <path class=\"displacy-arc\" id=\"arrow-6145b2e953a74909bbc09f8529fab54e-0-5\" stroke-width=\"2px\" d=\"M430,137.0 C430,47.0 585.0,47.0 585.0,137.0\" fill=\"none\" stroke=\"currentColor\"/>\n",
              "    <text dy=\"1.25em\" style=\"font-size: 0.8em; letter-spacing: 1px\">\n",
              "        <textPath xlink:href=\"#arrow-6145b2e953a74909bbc09f8529fab54e-0-5\" class=\"displacy-label\" startOffset=\"50%\" side=\"left\" fill=\"currentColor\" text-anchor=\"middle\">obl:arg</textPath>\n",
              "    </text>\n",
              "    <path class=\"displacy-arrowhead\" d=\"M585.0,139.0 L593.0,127.0 577.0,127.0\" fill=\"currentColor\"/>\n",
              "</g>\n",
              "</svg></span>"
            ],
            "text/plain": [
              "<IPython.core.display.HTML object>"
            ]
          },
          "metadata": {},
          "output_type": "display_data"
        }
      ],
      "source": [
        "# part of speech\n",
        "\n",
        "print(get_pos(text1))\n",
        "render_pos(text1)"
      ]
    },
    {
      "cell_type": "code",
      "execution_count": 11,
      "metadata": {},
      "outputs": [
        {
          "name": "stdout",
          "output_type": "stream",
          "text": [
            "(96,)\n",
            "0.29973912\n",
            "0.39468837\n",
            "0.53404236\n"
          ]
        }
      ],
      "source": [
        "# word embeddings and mean embedding (similarity)\n",
        "\n",
        "print(get_word_embeddings(text1)[0].shape)\n",
        "print(get_mean_embedding(text1, text2))\n",
        "print(get_mean_embedding(text1, text4))\n",
        "print(get_mean_embedding(text2, text4))"
      ]
    },
    {
      "attachments": {},
      "cell_type": "markdown",
      "metadata": {},
      "source": [
        "## 3. Préparation des données\n",
        "\n",
        "Nous allons maintenant préparer les données pour l'entraînement de notre modèle.\n",
        "\n",
        "Nous allons donc appliquer les fonctions de prétraitement sur les données textuelles et transformer les données chiffrées en données numériques. Dans un premier temps, nous confectionnerons des ensembles contenant toutes les valeurs et les informations présentes dans les données. Nous verrons par la suites lesquelles sont les plus pertinantes en fonction des résultats obtenus et de nos modèles."
      ]
    },
    {
      "cell_type": "code",
      "execution_count": 25,
      "metadata": {},
      "outputs": [
        {
          "name": "stdout",
          "output_type": "stream",
          "text": [
            "(2875, 5)\n",
            "                                            synopsis  nb_critiques_presse   \n",
            "0  En visite à Istanbul , le célèbre détective be...                 19.0  \\\n",
            "1  Un jeune homme d' origine modeste est accusé d...                  7.0   \n",
            "2  Lorsque Marie-Laure , mère de quatre jeunes en...                 19.0   \n",
            "3  Un vagabond s’ éprend d’ une belle et jeune ve...                  4.0   \n",
            "4  L' histoire vraie de Carl Brashear , premier A...                 17.0   \n",
            "\n",
            "   nb_critiques_spectateurs        realisateurs   \n",
            "0                     125.0        Sidney Lumet  \\\n",
            "1                     771.0        Sidney Lumet   \n",
            "2                      22.0       Nicolas Cuche   \n",
            "3                     190.0     Charles Chaplin   \n",
            "4                     104.0  George Tillman Jr.   \n",
            "\n",
            "                             titre  \n",
            "0  Le Crime de l' Orient - Express  \n",
            "1              12 hommes en colère  \n",
            "2             Après moi le bonheur  \n",
            "3         Les Lumières de la ville  \n",
            "4        Les Chemins de la dignité  \n",
            "(2875,)\n",
            "0    policier\n",
            "1       drame\n",
            "2       drame\n",
            "3     romance\n",
            "4      biopic\n",
            "Name: genre, dtype: object\n"
          ]
        }
      ],
      "source": [
        "# we will use train_dataset_2 since it has no missing values\n",
        "\n",
        "values = ['synopsis', 'nb_critiques_presse', 'nb_critiques_spectateurs', 'realisateurs', 'titre']\n",
        "X = train_dataset_2[values]\n",
        "y = train_dataset_2['genre']\n",
        "\n",
        "print(X.shape)\n",
        "print(X.head())\n",
        "print(y.shape)\n",
        "print(y.head())"
      ]
    },
    {
      "cell_type": "code",
      "execution_count": 26,
      "metadata": {},
      "outputs": [],
      "source": [
        "# separate the dataset into a training set and a validation set\n",
        "X_train, X_test, y_train, y_test = train_test_split(X, y, test_size=0.2, random_state=12, shuffle=True)"
      ]
    },
    {
      "attachments": {},
      "cell_type": "markdown",
      "metadata": {},
      "source": [
        "Pour la suite, nous définirons des pipelines de traitement spécifiques à chaque type de colonne. En particulier, les colonnes correspondant à des textes (`list_of_categorical_headers`) dans `X` seront vectorisées.\n",
        "\n",
        "Pour toutes les données dans `list_of_categorical_headers`, les tokens ont déjà été séparés par des espaces. Nous allons utiliser `TfidfVectorizer` pour vectoriser ces données."
      ]
    },
    {
      "cell_type": "code",
      "execution_count": 27,
      "metadata": {},
      "outputs": [],
      "source": [
        "tfidf_vectorizer = TfidfVectorizer(\n",
        "  analyzer='word',\n",
        "  tokenizer=lambda x: str.split(x, sep=' '),\n",
        "  token_pattern=None,\n",
        "  lowercase=True,\n",
        "  stop_words=list(fr_stopwords),\n",
        "  min_df=0.01,\n",
        "  max_df=0.95,\n",
        ")\n"
      ]
    },
    {
      "cell_type": "code",
      "execution_count": 28,
      "metadata": {},
      "outputs": [
        {
          "name": "stdout",
          "output_type": "stream",
          "text": [
            "(2300, 684)\n",
            "     !    \"         (         )         -       ...   18   20        30   \n",
            "0  0.0  0.0  0.000000  0.000000  0.178501  0.073004  0.0  0.0  0.000000  \\\n",
            "1  0.0  0.0  0.000000  0.000000  0.000000  0.000000  0.0  0.0  0.000000   \n",
            "2  0.0  0.0  0.190019  0.190019  0.000000  0.000000  0.0  0.0  0.000000   \n",
            "3  0.0  0.0  0.000000  0.000000  0.000000  0.000000  0.0  0.0  0.208605   \n",
            "4  0.0  0.0  0.000000  0.000000  0.000000  0.000000  0.0  0.0  0.000000   \n",
            "\n",
            "          :  ...  étrange  étranges  études  étudiant  événements  être   \n",
            "0  0.078143  ...      0.0       0.0     0.0       0.0    0.161489   0.0  \\\n",
            "1  0.188918  ...      0.0       0.0     0.0       0.0    0.000000   0.0   \n",
            "2  0.103920  ...      0.0       0.0     0.0       0.0    0.000000   0.0   \n",
            "3  0.196572  ...      0.0       0.0     0.0       0.0    0.000000   0.0   \n",
            "4  0.150172  ...      0.0       0.0     0.0       0.0    0.000000   0.0   \n",
            "\n",
            "   êtres  île    –         …  \n",
            "0    0.0  0.0  0.0  0.000000  \n",
            "1    0.0  0.0  0.0  0.000000  \n",
            "2    0.0  0.0  0.0  0.000000  \n",
            "3    0.0  0.0  0.0  0.109994  \n",
            "4    0.0  0.0  0.0  0.000000  \n",
            "\n",
            "[5 rows x 684 columns]\n"
          ]
        }
      ],
      "source": [
        "res = tfidf_vectorizer.fit_transform(X_train['synopsis'])\n",
        "bow = pd.DataFrame(res.toarray(), columns=tfidf_vectorizer.get_feature_names_out())\n",
        "print(bow.shape)\n",
        "print(bow.head())"
      ]
    },
    {
      "attachments": {},
      "cell_type": "markdown",
      "metadata": {},
      "source": [
        "Nous pouvons aussi utiliser ce `vectorizer` pour extraire des statistiques sur les données textuelles. Par exemple, la longueur en nombre de caractères, le nombre de phrases, ..."
      ]
    },
    {
      "cell_type": "code",
      "execution_count": 29,
      "metadata": {},
      "outputs": [],
      "source": [
        "def make_stats(texts: list[str]) -> list[dict[str, int]]:\n",
        "  return [{\n",
        "    'len': len(t),\n",
        "    'nb_sentences': t.count('.') + t.count('!') + t.count('?'),\n",
        "  } for t in texts]\n",
        "\n",
        "stats_transformer = FunctionTransformer(make_stats, validate=False)\n",
        "stats_vectorizer = DictVectorizer(sparse=False)"
      ]
    },
    {
      "cell_type": "code",
      "execution_count": 30,
      "metadata": {},
      "outputs": [
        {
          "name": "stdout",
          "output_type": "stream",
          "text": [
            "(2300, 2)\n",
            "     len  nb_sentences\n",
            "0  922.0           8.0\n",
            "1  759.0           9.0\n",
            "2  679.0           3.0\n",
            "3  626.0           8.0\n",
            "4  281.0           2.0\n"
          ]
        }
      ],
      "source": [
        "res = stats_vectorizer.fit_transform(stats_transformer.transform(X_train['synopsis']))\n",
        "stats = pd.DataFrame(res, columns=stats_vectorizer.get_feature_names_out())\n",
        "\n",
        "print(stats.shape)\n",
        "print(stats.head())"
      ]
    },
    {
      "attachments": {},
      "cell_type": "markdown",
      "metadata": {},
      "source": [
        "On normalise les données en utilisant `MinMaxScaler` pour les données dans notre dictionnaire"
      ]
    },
    {
      "cell_type": "code",
      "execution_count": 31,
      "metadata": {},
      "outputs": [
        {
          "name": "stdout",
          "output_type": "stream",
          "text": [
            "(2300, 2)\n",
            "        len  nb_sentences\n",
            "0  0.463821      0.363636\n",
            "1  0.378969      0.409091\n",
            "2  0.337324      0.136364\n",
            "3  0.309735      0.363636\n",
            "4  0.130141      0.090909\n"
          ]
        }
      ],
      "source": [
        "min_max_scaler = MinMaxScaler()\n",
        "scaled_stats = pd.DataFrame(min_max_scaler.fit_transform(stats), columns=stats.columns)\n",
        "\n",
        "print(scaled_stats.shape)\n",
        "print(scaled_stats.head())"
      ]
    },
    {
      "attachments": {},
      "cell_type": "markdown",
      "metadata": {},
      "source": [
        "On rajoute aussi de quoi faire un encodage one-hot des données catégorielles."
      ]
    },
    {
      "cell_type": "code",
      "execution_count": 41,
      "metadata": {},
      "outputs": [],
      "source": [
        "one_hot_encoder = OneHotEncoder(sparse_output=False, handle_unknown='ignore')"
      ]
    },
    {
      "cell_type": "code",
      "execution_count": 42,
      "metadata": {},
      "outputs": [
        {
          "name": "stdout",
          "output_type": "stream",
          "text": [
            "(2300, 1531)\n",
            "   realisateurs_Aaron Seltzer, Jason Friedberg  realisateurs_Abbas Kiarostami   \n",
            "0                                          0.0                            0.0  \\\n",
            "1                                          0.0                            0.0   \n",
            "2                                          0.0                            0.0   \n",
            "3                                          0.0                            0.0   \n",
            "4                                          0.0                            0.0   \n",
            "\n",
            "   realisateurs_Abd Al Malik  realisateurs_Abdelhamid Bouchnak   \n",
            "0                        0.0                               0.0  \\\n",
            "1                        0.0                               0.0   \n",
            "2                        0.0                               0.0   \n",
            "3                        0.0                               0.0   \n",
            "4                        0.0                               0.0   \n",
            "\n",
            "   realisateurs_Abdellatif Kechiche  realisateurs_Abderrahmane Sissako   \n",
            "0                               0.0                                0.0  \\\n",
            "1                               0.0                                0.0   \n",
            "2                               0.0                                0.0   \n",
            "3                               0.0                                0.0   \n",
            "4                               0.0                                0.0   \n",
            "\n",
            "   realisateurs_Abel Ferrara  realisateurs_Abel Ferry   \n",
            "0                        0.0                      0.0  \\\n",
            "1                        0.0                      0.0   \n",
            "2                        0.0                      0.0   \n",
            "3                        0.0                      0.0   \n",
            "4                        0.0                      0.0   \n",
            "\n",
            "   realisateurs_Abraham Cohen  realisateurs_Adam McKay  ...   \n",
            "0                         0.0                      0.0  ...  \\\n",
            "1                         0.0                      0.0  ...   \n",
            "2                         0.0                      0.0  ...   \n",
            "3                         0.0                      0.0  ...   \n",
            "4                         0.0                      0.0  ...   \n",
            "\n",
            "   realisateurs_Zack Snyder  realisateurs_Zeek Earl, Christopher Caldwell   \n",
            "0                       0.0                                           0.0  \\\n",
            "1                       0.0                                           0.0   \n",
            "2                       0.0                                           0.0   \n",
            "3                       0.0                                           0.0   \n",
            "4                       0.0                                           0.0   \n",
            "\n",
            "   realisateurs_Ziad Doueiri  realisateurs_Zoé Wittock  realisateurs_inconnu   \n",
            "0                        0.0                       0.0                   0.0  \\\n",
            "1                        0.0                       0.0                   0.0   \n",
            "2                        0.0                       0.0                   0.0   \n",
            "3                        0.0                       0.0                   0.0   \n",
            "4                        0.0                       0.0                   0.0   \n",
            "\n",
            "   realisateurs_Àlex Pastor, David Pastor   \n",
            "0                                     0.0  \\\n",
            "1                                     0.0   \n",
            "2                                     0.0   \n",
            "3                                     0.0   \n",
            "4                                     0.0   \n",
            "\n",
            "   realisateurs_Çağla Zencirci, Guillaume Giovanetti   \n",
            "0                                                0.0  \\\n",
            "1                                                0.0   \n",
            "2                                                0.0   \n",
            "3                                                0.0   \n",
            "4                                                0.0   \n",
            "\n",
            "   realisateurs_Énora Boutin  realisateurs_Étienne Chatiliez   \n",
            "0                        0.0                             0.0  \\\n",
            "1                        0.0                             0.0   \n",
            "2                        0.0                             0.0   \n",
            "3                        0.0                             0.0   \n",
            "4                        0.0                             0.0   \n",
            "\n",
            "   realisateurs_Ömer Faruk Sorak, İpek Sorak  \n",
            "0                                        0.0  \n",
            "1                                        0.0  \n",
            "2                                        0.0  \n",
            "3                                        0.0  \n",
            "4                                        0.0  \n",
            "\n",
            "[5 rows x 1531 columns]\n"
          ]
        }
      ],
      "source": [
        "res = one_hot_encoder.fit_transform(X_train[['realisateurs']])\n",
        "realisateurs = pd.DataFrame(res, columns=one_hot_encoder.get_feature_names_out())\n",
        "\n",
        "print(realisateurs.shape)\n",
        "print(realisateurs.head())"
      ]
    },
    {
      "attachments": {},
      "cell_type": "markdown",
      "metadata": {},
      "source": [
        "## 4. Création de la pipeline\n",
        "\n",
        "Nous allons maintenant procéder à la création de la pipeline en combinant les chaînes de pré-traitement."
      ]
    },
    {
      "cell_type": "code",
      "execution_count": 64,
      "metadata": {},
      "outputs": [],
      "source": [
        "column_transformer = ColumnTransformer(\n",
        "  [\n",
        "    # 'synopsis' column : tf-idf vectorization\n",
        "    ('synopsis', tfidf_vectorizer, 'synopsis'),\n",
        "\n",
        "    # 'nb_critiques_presse' and 'nb_critiques_spectateurs' columns : min-max scaling\n",
        "    ('min_max', min_max_scaler, ['nb_critiques_presse', 'nb_critiques_spectateurs']),\n",
        "    # 'realisateurs' column : one-hot encoding\n",
        "    ('realisateurs', one_hot_encoder, ['realisateurs']),\n",
        "    # 'titre' column : tf-idf vectorization\n",
        "    # ('titre', tfidf_vectorizer, 'titre'),\n",
        "  ],\n",
        "  remainder='drop', # drop the columns not specified\n",
        ")"
      ]
    },
    {
      "cell_type": "code",
      "execution_count": 65,
      "metadata": {},
      "outputs": [],
      "source": [
        "# learning\n",
        "classifier_pipeline = make_pipeline(column_transformer, LogisticRegression(max_iter=1000))"
      ]
    },
    {
      "cell_type": "code",
      "execution_count": 66,
      "metadata": {},
      "outputs": [
        {
          "data": {
            "text/html": [
              "<style>#sk-container-id-9 {color: black;background-color: white;}#sk-container-id-9 pre{padding: 0;}#sk-container-id-9 div.sk-toggleable {background-color: white;}#sk-container-id-9 label.sk-toggleable__label {cursor: pointer;display: block;width: 100%;margin-bottom: 0;padding: 0.3em;box-sizing: border-box;text-align: center;}#sk-container-id-9 label.sk-toggleable__label-arrow:before {content: \"▸\";float: left;margin-right: 0.25em;color: #696969;}#sk-container-id-9 label.sk-toggleable__label-arrow:hover:before {color: black;}#sk-container-id-9 div.sk-estimator:hover label.sk-toggleable__label-arrow:before {color: black;}#sk-container-id-9 div.sk-toggleable__content {max-height: 0;max-width: 0;overflow: hidden;text-align: left;background-color: #f0f8ff;}#sk-container-id-9 div.sk-toggleable__content pre {margin: 0.2em;color: black;border-radius: 0.25em;background-color: #f0f8ff;}#sk-container-id-9 input.sk-toggleable__control:checked~div.sk-toggleable__content {max-height: 200px;max-width: 100%;overflow: auto;}#sk-container-id-9 input.sk-toggleable__control:checked~label.sk-toggleable__label-arrow:before {content: \"▾\";}#sk-container-id-9 div.sk-estimator input.sk-toggleable__control:checked~label.sk-toggleable__label {background-color: #d4ebff;}#sk-container-id-9 div.sk-label input.sk-toggleable__control:checked~label.sk-toggleable__label {background-color: #d4ebff;}#sk-container-id-9 input.sk-hidden--visually {border: 0;clip: rect(1px 1px 1px 1px);clip: rect(1px, 1px, 1px, 1px);height: 1px;margin: -1px;overflow: hidden;padding: 0;position: absolute;width: 1px;}#sk-container-id-9 div.sk-estimator {font-family: monospace;background-color: #f0f8ff;border: 1px dotted black;border-radius: 0.25em;box-sizing: border-box;margin-bottom: 0.5em;}#sk-container-id-9 div.sk-estimator:hover {background-color: #d4ebff;}#sk-container-id-9 div.sk-parallel-item::after {content: \"\";width: 100%;border-bottom: 1px solid gray;flex-grow: 1;}#sk-container-id-9 div.sk-label:hover label.sk-toggleable__label {background-color: #d4ebff;}#sk-container-id-9 div.sk-serial::before {content: \"\";position: absolute;border-left: 1px solid gray;box-sizing: border-box;top: 0;bottom: 0;left: 50%;z-index: 0;}#sk-container-id-9 div.sk-serial {display: flex;flex-direction: column;align-items: center;background-color: white;padding-right: 0.2em;padding-left: 0.2em;position: relative;}#sk-container-id-9 div.sk-item {position: relative;z-index: 1;}#sk-container-id-9 div.sk-parallel {display: flex;align-items: stretch;justify-content: center;background-color: white;position: relative;}#sk-container-id-9 div.sk-item::before, #sk-container-id-9 div.sk-parallel-item::before {content: \"\";position: absolute;border-left: 1px solid gray;box-sizing: border-box;top: 0;bottom: 0;left: 50%;z-index: -1;}#sk-container-id-9 div.sk-parallel-item {display: flex;flex-direction: column;z-index: 1;position: relative;background-color: white;}#sk-container-id-9 div.sk-parallel-item:first-child::after {align-self: flex-end;width: 50%;}#sk-container-id-9 div.sk-parallel-item:last-child::after {align-self: flex-start;width: 50%;}#sk-container-id-9 div.sk-parallel-item:only-child::after {width: 0;}#sk-container-id-9 div.sk-dashed-wrapped {border: 1px dashed gray;margin: 0 0.4em 0.5em 0.4em;box-sizing: border-box;padding-bottom: 0.4em;background-color: white;}#sk-container-id-9 div.sk-label label {font-family: monospace;font-weight: bold;display: inline-block;line-height: 1.2em;}#sk-container-id-9 div.sk-label-container {text-align: center;}#sk-container-id-9 div.sk-container {/* jupyter's `normalize.less` sets `[hidden] { display: none; }` but bootstrap.min.css set `[hidden] { display: none !important; }` so we also need the `!important` here to be able to override the default hidden behavior on the sphinx rendered scikit-learn.org. See: https://github.com/scikit-learn/scikit-learn/issues/21755 */display: inline-block !important;position: relative;}#sk-container-id-9 div.sk-text-repr-fallback {display: none;}</style><div id=\"sk-container-id-9\" class=\"sk-top-container\"><div class=\"sk-text-repr-fallback\"><pre>Pipeline(steps=[(&#x27;columntransformer&#x27;,\n",
              "                 ColumnTransformer(transformers=[(&#x27;synopsis&#x27;,\n",
              "                                                  TfidfVectorizer(max_df=0.95,\n",
              "                                                                  min_df=0.01,\n",
              "                                                                  stop_words=[&#x27;aient&#x27;,\n",
              "                                                                              &#x27;étés&#x27;,\n",
              "                                                                              &#x27;au&#x27;,\n",
              "                                                                              &#x27;aviez&#x27;,\n",
              "                                                                              &#x27;on&#x27;,\n",
              "                                                                              &#x27;te&#x27;,\n",
              "                                                                              &#x27;ayantes&#x27;,\n",
              "                                                                              &#x27;eurent&#x27;,\n",
              "                                                                              &#x27;mais&#x27;,\n",
              "                                                                              &#x27;eux&#x27;,\n",
              "                                                                              &#x27;toi&#x27;,\n",
              "                                                                              &#x27;étées&#x27;,\n",
              "                                                                              &#x27;soyons&#x27;,\n",
              "                                                                              &#x27;aura&#x27;,\n",
              "                                                                              &#x27;fût&#x27;,\n",
              "                                                                              &#x27;seraient&#x27;,\n",
              "                                                                              &#x27;elle&#x27;,\n",
              "                                                                              &#x27;nos&#x27;,\n",
              "                                                                              &#x27;pour&#x27;,\n",
              "                                                                              &#x27;eusse&#x27;,\n",
              "                                                                              &#x27;en&#x27;,\n",
              "                                                                              &#x27;c&#x27;,\n",
              "                                                                              &#x27;d&#x27;,\n",
              "                                                                              &#x27;étant&#x27;,\n",
              "                                                                              &#x27;sois&#x27;,\n",
              "                                                                              &#x27;son&#x27;,\n",
              "                                                                              &#x27;mes&#x27;,\n",
              "                                                                              &#x27;eut&#x27;,\n",
              "                                                                              &#x27;sommes&#x27;,\n",
              "                                                                              &#x27;dans&#x27;, ...],\n",
              "                                                                  token_pattern=None,\n",
              "                                                                  tokenizer=&lt;function &lt;lambda&gt; at 0x7f64dc4a1580&gt;),\n",
              "                                                  &#x27;synopsis&#x27;),\n",
              "                                                 (&#x27;min_max&#x27;, MinMaxScaler(),\n",
              "                                                  [&#x27;nb_critiques_presse&#x27;,\n",
              "                                                   &#x27;nb_critiques_spectateurs&#x27;]),\n",
              "                                                 (&#x27;realisateurs&#x27;,\n",
              "                                                  OneHotEncoder(handle_unknown=&#x27;ignore&#x27;,\n",
              "                                                                sparse_output=False),\n",
              "                                                  [&#x27;realisateurs&#x27;])])),\n",
              "                (&#x27;logisticregression&#x27;, LogisticRegression(max_iter=1000))])</pre><b>In a Jupyter environment, please rerun this cell to show the HTML representation or trust the notebook. <br />On GitHub, the HTML representation is unable to render, please try loading this page with nbviewer.org.</b></div><div class=\"sk-container\" hidden><div class=\"sk-item sk-dashed-wrapped\"><div class=\"sk-label-container\"><div class=\"sk-label sk-toggleable\"><input class=\"sk-toggleable__control sk-hidden--visually\" id=\"sk-estimator-id-55\" type=\"checkbox\" ><label for=\"sk-estimator-id-55\" class=\"sk-toggleable__label sk-toggleable__label-arrow\">Pipeline</label><div class=\"sk-toggleable__content\"><pre>Pipeline(steps=[(&#x27;columntransformer&#x27;,\n",
              "                 ColumnTransformer(transformers=[(&#x27;synopsis&#x27;,\n",
              "                                                  TfidfVectorizer(max_df=0.95,\n",
              "                                                                  min_df=0.01,\n",
              "                                                                  stop_words=[&#x27;aient&#x27;,\n",
              "                                                                              &#x27;étés&#x27;,\n",
              "                                                                              &#x27;au&#x27;,\n",
              "                                                                              &#x27;aviez&#x27;,\n",
              "                                                                              &#x27;on&#x27;,\n",
              "                                                                              &#x27;te&#x27;,\n",
              "                                                                              &#x27;ayantes&#x27;,\n",
              "                                                                              &#x27;eurent&#x27;,\n",
              "                                                                              &#x27;mais&#x27;,\n",
              "                                                                              &#x27;eux&#x27;,\n",
              "                                                                              &#x27;toi&#x27;,\n",
              "                                                                              &#x27;étées&#x27;,\n",
              "                                                                              &#x27;soyons&#x27;,\n",
              "                                                                              &#x27;aura&#x27;,\n",
              "                                                                              &#x27;fût&#x27;,\n",
              "                                                                              &#x27;seraient&#x27;,\n",
              "                                                                              &#x27;elle&#x27;,\n",
              "                                                                              &#x27;nos&#x27;,\n",
              "                                                                              &#x27;pour&#x27;,\n",
              "                                                                              &#x27;eusse&#x27;,\n",
              "                                                                              &#x27;en&#x27;,\n",
              "                                                                              &#x27;c&#x27;,\n",
              "                                                                              &#x27;d&#x27;,\n",
              "                                                                              &#x27;étant&#x27;,\n",
              "                                                                              &#x27;sois&#x27;,\n",
              "                                                                              &#x27;son&#x27;,\n",
              "                                                                              &#x27;mes&#x27;,\n",
              "                                                                              &#x27;eut&#x27;,\n",
              "                                                                              &#x27;sommes&#x27;,\n",
              "                                                                              &#x27;dans&#x27;, ...],\n",
              "                                                                  token_pattern=None,\n",
              "                                                                  tokenizer=&lt;function &lt;lambda&gt; at 0x7f64dc4a1580&gt;),\n",
              "                                                  &#x27;synopsis&#x27;),\n",
              "                                                 (&#x27;min_max&#x27;, MinMaxScaler(),\n",
              "                                                  [&#x27;nb_critiques_presse&#x27;,\n",
              "                                                   &#x27;nb_critiques_spectateurs&#x27;]),\n",
              "                                                 (&#x27;realisateurs&#x27;,\n",
              "                                                  OneHotEncoder(handle_unknown=&#x27;ignore&#x27;,\n",
              "                                                                sparse_output=False),\n",
              "                                                  [&#x27;realisateurs&#x27;])])),\n",
              "                (&#x27;logisticregression&#x27;, LogisticRegression(max_iter=1000))])</pre></div></div></div><div class=\"sk-serial\"><div class=\"sk-item sk-dashed-wrapped\"><div class=\"sk-label-container\"><div class=\"sk-label sk-toggleable\"><input class=\"sk-toggleable__control sk-hidden--visually\" id=\"sk-estimator-id-56\" type=\"checkbox\" ><label for=\"sk-estimator-id-56\" class=\"sk-toggleable__label sk-toggleable__label-arrow\">columntransformer: ColumnTransformer</label><div class=\"sk-toggleable__content\"><pre>ColumnTransformer(transformers=[(&#x27;synopsis&#x27;,\n",
              "                                 TfidfVectorizer(max_df=0.95, min_df=0.01,\n",
              "                                                 stop_words=[&#x27;aient&#x27;, &#x27;étés&#x27;,\n",
              "                                                             &#x27;au&#x27;, &#x27;aviez&#x27;,\n",
              "                                                             &#x27;on&#x27;, &#x27;te&#x27;,\n",
              "                                                             &#x27;ayantes&#x27;,\n",
              "                                                             &#x27;eurent&#x27;, &#x27;mais&#x27;,\n",
              "                                                             &#x27;eux&#x27;, &#x27;toi&#x27;,\n",
              "                                                             &#x27;étées&#x27;, &#x27;soyons&#x27;,\n",
              "                                                             &#x27;aura&#x27;, &#x27;fût&#x27;,\n",
              "                                                             &#x27;seraient&#x27;, &#x27;elle&#x27;,\n",
              "                                                             &#x27;nos&#x27;, &#x27;pour&#x27;,\n",
              "                                                             &#x27;eusse&#x27;, &#x27;en&#x27;, &#x27;c&#x27;,\n",
              "                                                             &#x27;d&#x27;, &#x27;étant&#x27;,\n",
              "                                                             &#x27;sois&#x27;, &#x27;son&#x27;,\n",
              "                                                             &#x27;mes&#x27;, &#x27;eut&#x27;,\n",
              "                                                             &#x27;sommes&#x27;, &#x27;dans&#x27;, ...],\n",
              "                                                 token_pattern=None,\n",
              "                                                 tokenizer=&lt;function &lt;lambda&gt; at 0x7f64dc4a1580&gt;),\n",
              "                                 &#x27;synopsis&#x27;),\n",
              "                                (&#x27;min_max&#x27;, MinMaxScaler(),\n",
              "                                 [&#x27;nb_critiques_presse&#x27;,\n",
              "                                  &#x27;nb_critiques_spectateurs&#x27;]),\n",
              "                                (&#x27;realisateurs&#x27;,\n",
              "                                 OneHotEncoder(handle_unknown=&#x27;ignore&#x27;,\n",
              "                                               sparse_output=False),\n",
              "                                 [&#x27;realisateurs&#x27;])])</pre></div></div></div><div class=\"sk-parallel\"><div class=\"sk-parallel-item\"><div class=\"sk-item\"><div class=\"sk-label-container\"><div class=\"sk-label sk-toggleable\"><input class=\"sk-toggleable__control sk-hidden--visually\" id=\"sk-estimator-id-57\" type=\"checkbox\" ><label for=\"sk-estimator-id-57\" class=\"sk-toggleable__label sk-toggleable__label-arrow\">synopsis</label><div class=\"sk-toggleable__content\"><pre>synopsis</pre></div></div></div><div class=\"sk-serial\"><div class=\"sk-item\"><div class=\"sk-estimator sk-toggleable\"><input class=\"sk-toggleable__control sk-hidden--visually\" id=\"sk-estimator-id-58\" type=\"checkbox\" ><label for=\"sk-estimator-id-58\" class=\"sk-toggleable__label sk-toggleable__label-arrow\">TfidfVectorizer</label><div class=\"sk-toggleable__content\"><pre>TfidfVectorizer(max_df=0.95, min_df=0.01,\n",
              "                stop_words=[&#x27;aient&#x27;, &#x27;étés&#x27;, &#x27;au&#x27;, &#x27;aviez&#x27;, &#x27;on&#x27;, &#x27;te&#x27;,\n",
              "                            &#x27;ayantes&#x27;, &#x27;eurent&#x27;, &#x27;mais&#x27;, &#x27;eux&#x27;, &#x27;toi&#x27;, &#x27;étées&#x27;,\n",
              "                            &#x27;soyons&#x27;, &#x27;aura&#x27;, &#x27;fût&#x27;, &#x27;seraient&#x27;, &#x27;elle&#x27;, &#x27;nos&#x27;,\n",
              "                            &#x27;pour&#x27;, &#x27;eusse&#x27;, &#x27;en&#x27;, &#x27;c&#x27;, &#x27;d&#x27;, &#x27;étant&#x27;, &#x27;sois&#x27;,\n",
              "                            &#x27;son&#x27;, &#x27;mes&#x27;, &#x27;eut&#x27;, &#x27;sommes&#x27;, &#x27;dans&#x27;, ...],\n",
              "                token_pattern=None,\n",
              "                tokenizer=&lt;function &lt;lambda&gt; at 0x7f64dc4a1580&gt;)</pre></div></div></div></div></div></div><div class=\"sk-parallel-item\"><div class=\"sk-item\"><div class=\"sk-label-container\"><div class=\"sk-label sk-toggleable\"><input class=\"sk-toggleable__control sk-hidden--visually\" id=\"sk-estimator-id-59\" type=\"checkbox\" ><label for=\"sk-estimator-id-59\" class=\"sk-toggleable__label sk-toggleable__label-arrow\">min_max</label><div class=\"sk-toggleable__content\"><pre>[&#x27;nb_critiques_presse&#x27;, &#x27;nb_critiques_spectateurs&#x27;]</pre></div></div></div><div class=\"sk-serial\"><div class=\"sk-item\"><div class=\"sk-estimator sk-toggleable\"><input class=\"sk-toggleable__control sk-hidden--visually\" id=\"sk-estimator-id-60\" type=\"checkbox\" ><label for=\"sk-estimator-id-60\" class=\"sk-toggleable__label sk-toggleable__label-arrow\">MinMaxScaler</label><div class=\"sk-toggleable__content\"><pre>MinMaxScaler()</pre></div></div></div></div></div></div><div class=\"sk-parallel-item\"><div class=\"sk-item\"><div class=\"sk-label-container\"><div class=\"sk-label sk-toggleable\"><input class=\"sk-toggleable__control sk-hidden--visually\" id=\"sk-estimator-id-61\" type=\"checkbox\" ><label for=\"sk-estimator-id-61\" class=\"sk-toggleable__label sk-toggleable__label-arrow\">realisateurs</label><div class=\"sk-toggleable__content\"><pre>[&#x27;realisateurs&#x27;]</pre></div></div></div><div class=\"sk-serial\"><div class=\"sk-item\"><div class=\"sk-estimator sk-toggleable\"><input class=\"sk-toggleable__control sk-hidden--visually\" id=\"sk-estimator-id-62\" type=\"checkbox\" ><label for=\"sk-estimator-id-62\" class=\"sk-toggleable__label sk-toggleable__label-arrow\">OneHotEncoder</label><div class=\"sk-toggleable__content\"><pre>OneHotEncoder(handle_unknown=&#x27;ignore&#x27;, sparse_output=False)</pre></div></div></div></div></div></div></div></div><div class=\"sk-item\"><div class=\"sk-estimator sk-toggleable\"><input class=\"sk-toggleable__control sk-hidden--visually\" id=\"sk-estimator-id-63\" type=\"checkbox\" ><label for=\"sk-estimator-id-63\" class=\"sk-toggleable__label sk-toggleable__label-arrow\">LogisticRegression</label><div class=\"sk-toggleable__content\"><pre>LogisticRegression(max_iter=1000)</pre></div></div></div></div></div></div></div>"
            ],
            "text/plain": [
              "Pipeline(steps=[('columntransformer',\n",
              "                 ColumnTransformer(transformers=[('synopsis',\n",
              "                                                  TfidfVectorizer(max_df=0.95,\n",
              "                                                                  min_df=0.01,\n",
              "                                                                  stop_words=['aient',\n",
              "                                                                              'étés',\n",
              "                                                                              'au',\n",
              "                                                                              'aviez',\n",
              "                                                                              'on',\n",
              "                                                                              'te',\n",
              "                                                                              'ayantes',\n",
              "                                                                              'eurent',\n",
              "                                                                              'mais',\n",
              "                                                                              'eux',\n",
              "                                                                              'toi',\n",
              "                                                                              'étées',\n",
              "                                                                              'soyons',\n",
              "                                                                              'aura',\n",
              "                                                                              'fût',\n",
              "                                                                              'seraient',\n",
              "                                                                              'elle',\n",
              "                                                                              'nos',\n",
              "                                                                              'pour',\n",
              "                                                                              'eusse',\n",
              "                                                                              'en',\n",
              "                                                                              'c',\n",
              "                                                                              'd',\n",
              "                                                                              'étant',\n",
              "                                                                              'sois',\n",
              "                                                                              'son',\n",
              "                                                                              'mes',\n",
              "                                                                              'eut',\n",
              "                                                                              'sommes',\n",
              "                                                                              'dans', ...],\n",
              "                                                                  token_pattern=None,\n",
              "                                                                  tokenizer=<function <lambda> at 0x7f64dc4a1580>),\n",
              "                                                  'synopsis'),\n",
              "                                                 ('min_max', MinMaxScaler(),\n",
              "                                                  ['nb_critiques_presse',\n",
              "                                                   'nb_critiques_spectateurs']),\n",
              "                                                 ('realisateurs',\n",
              "                                                  OneHotEncoder(handle_unknown='ignore',\n",
              "                                                                sparse_output=False),\n",
              "                                                  ['realisateurs'])])),\n",
              "                ('logisticregression', LogisticRegression(max_iter=1000))])"
            ]
          },
          "execution_count": 66,
          "metadata": {},
          "output_type": "execute_result"
        }
      ],
      "source": [
        "# fit\n",
        "classifier_pipeline.fit(X_train, y_train)"
      ]
    },
    {
      "cell_type": "code",
      "execution_count": 67,
      "metadata": {},
      "outputs": [
        {
          "name": "stdout",
          "output_type": "stream",
          "text": [
            "                 precision    recall  f1-score   support\n",
            "\n",
            "         biopic       0.50      0.12      0.19        43\n",
            "        comédie       0.52      0.72      0.60       100\n",
            "   documentaire       0.85      0.28      0.42        40\n",
            "          drame       0.43      0.55      0.48       112\n",
            "     historique       0.71      0.37      0.49        27\n",
            "        horreur       0.59      0.49      0.54        59\n",
            "       policier       0.55      0.58      0.56        57\n",
            "        romance       0.41      0.50      0.45        78\n",
            "science fiction       0.68      0.58      0.62        59\n",
            "\n",
            "       accuracy                           0.51       575\n",
            "      macro avg       0.58      0.46      0.48       575\n",
            "   weighted avg       0.54      0.51      0.50       575\n",
            "\n"
          ]
        }
      ],
      "source": [
        "# predict\n",
        "y_pred = classifier_pipeline.predict(X_test)\n",
        "print(classification_report(y_test, y_pred))"
      ]
    }
  ],
  "metadata": {
    "kernelspec": {
      "display_name": "Python 3",
      "language": "python",
      "name": "python3"
    },
    "language_info": {
      "codemirror_mode": {
        "name": "ipython",
        "version": 3
      },
      "file_extension": ".py",
      "mimetype": "text/x-python",
      "name": "python",
      "nbconvert_exporter": "python",
      "pygments_lexer": "ipython3",
      "version": "3.11.3"
    },
    "orig_nbformat": 4
  },
  "nbformat": 4,
  "nbformat_minor": 2
}
