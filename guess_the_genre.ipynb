{
 "cells": [
  {
   "attachments": {},
   "cell_type": "markdown",
   "metadata": {},
   "source": [
    "# Projet : Traitement Automatique des Langues (Partie 1)\n",
    "\n",
    "Nous avons à notre disposition deux fichiers CSV ([allocine_genres_test.csv](data/allocine_genres_test.csv) et [allocine_genres_train.csv](data/allocine_genres_train.csv)) contenant des informations sur des films et leurs genres. Le but de ce projet est de prédire les genres d'un film à partir de son synopsis notamment (et d'autres informations).\n",
    "\n",
    "L’objectif est d’entraîner un outil de classification automatique des films en fonction de leur genre. La classification doit se baser sur le texte de la synopsis et sur le titre des films. Le texte et le titre des articles ont déjà été tokenisés et tous les tokens sont séparés par un espace."
   ]
  },
  {
   "attachments": {},
   "cell_type": "markdown",
   "metadata": {},
   "source": [
    "## 1. Importation des données et analyse exploratoire\n",
    "\n",
    "Les données sont disponibles dans le dossier [data](data/). Nous allons commencer par importer les données et les analyser."
   ]
  },
  {
   "cell_type": "code",
   "execution_count": 1,
   "metadata": {},
   "outputs": [],
   "source": [
    "%%capture\n",
    "\n",
    "# exécuter cette cellule pour installer les dépendances et télécharger les modèles spacy\n",
    "# remplacer `python` par `python3` si nécessaire\n",
    "!python -m pip install --upgrade -r requirements.txt\n",
    "!python -m spacy download fr_core_news_sm"
   ]
  },
  {
   "cell_type": "code",
   "execution_count": 2,
   "metadata": {},
   "outputs": [],
   "source": [
    "import os\n",
    "import sys\n",
    "\n",
    "import random\n",
    "import pandas as pd\n",
    "import numpy as np\n",
    "import matplotlib.pyplot as plt\n",
    "\n",
    "import nltk\n",
    "import spacy\n",
    "\n",
    "from nltk.corpus import stopwords\n",
    "from nltk.stem.snowball import SnowballStemmer\n",
    "from spacy import displacy\n",
    "\n",
    "train = pd.read_csv(os.path.join('data', 'allocine_genres_train.csv'))"
   ]
  },
  {
   "cell_type": "code",
   "execution_count": 3,
   "metadata": {},
   "outputs": [
    {
     "name": "stdout",
     "output_type": "stream",
     "text": [
      "(2875, 22)\n",
      "   Unnamed: 0         acteur_1           acteur_2           acteur_3   \n",
      "0        4772    Albert Finney      Lauren Bacall  Jacqueline Bisset  \\\n",
      "1         335      Henry Fonda      Martin Balsam       John Fiedler   \n",
      "2        4860   Alexandra Lamy  Michaël Abiteboul       Julia Piaton   \n",
      "3        1913  Charles Chaplin  Virginia Cherrill        Harry Myers   \n",
      "4        3726   Robert De Niro   Cuba Gooding Jr.    Charlize Theron   \n",
      "\n",
      "   allocine_id  annee_prod  annee_sortie  box_office_fr  couleur  duree  ...   \n",
      "0         1453        1974        1975.0       549055.0  Couleur  128.0  ...  \\\n",
      "1         4063        1957        1957.0            NaN      NaN   95.0  ...   \n",
      "2       241952        2016        2019.0            NaN  Couleur   90.0  ...   \n",
      "3         2256        1931        1931.0            NaN      NaN   87.0  ...   \n",
      "4        27434        2000        2001.0       221677.0  Couleur  129.0  ...   \n",
      "\n",
      "  nb_critiques_presse nb_critiques_spectateurs  nb_notes_spectateurs   \n",
      "0                 NaN                    125.0                2045.0  \\\n",
      "1                 7.0                    771.0               18670.0   \n",
      "2                 NaN                     22.0                 242.0   \n",
      "3                 4.0                    190.0                6185.0   \n",
      "4                17.0                    104.0                1619.0   \n",
      "\n",
      "   note_presse  note_spectateurs        realisateurs   \n",
      "0          NaN               3.7        Sidney Lumet  \\\n",
      "1          5.0               4.6        Sidney Lumet   \n",
      "2          NaN               4.2       Nicolas Cuche   \n",
      "3          4.5               4.4     Charles Chaplin   \n",
      "4          2.4               3.6  George Tillman Jr.   \n",
      "\n",
      "                                            synopsis   \n",
      "0  En visite à Istanbul , le célèbre détective be...  \\\n",
      "1  Un jeune homme d' origine modeste est accusé d...   \n",
      "2  Lorsque Marie-Laure , mère de quatre jeunes en...   \n",
      "3  Un vagabond s’ éprend d’ une belle et jeune ve...   \n",
      "4  L' histoire vraie de Carl Brashear , premier A...   \n",
      "\n",
      "                             titre     type_film     genre  \n",
      "0  Le Crime de l' Orient - Express           NaN  policier  \n",
      "1              12 hommes en colère           NaN     drame  \n",
      "2             Après moi le bonheur      Télefilm     drame  \n",
      "3         Les Lumières de la ville           NaN   romance  \n",
      "4        Les Chemins de la dignité  Long-métrage    biopic  \n",
      "\n",
      "[5 rows x 22 columns]\n"
     ]
    }
   ],
   "source": [
    "print(train.shape)\n",
    "print(train.head())"
   ]
  },
  {
   "cell_type": "code",
   "execution_count": 4,
   "metadata": {},
   "outputs": [
    {
     "name": "stdout",
     "output_type": "stream",
     "text": [
      "genre\n",
      "drame              501\n",
      "comédie            483\n",
      "romance            443\n",
      "policier           331\n",
      "horreur            299\n",
      "science fiction    298\n",
      "biopic             191\n",
      "documentaire       167\n",
      "historique         162\n",
      "Name: count, dtype: int64\n",
      "\n",
      "On dit de Lou qu’ elle est une enfant précoce . Elle a treize ans , deux classes d’ avance et un petit corps qui prend son temps . Elle a une mère emmurée dans les tranquillisants , peu d’ amis , et le ressenti aigu d’ un monde qui va de travers . Lou doit faire un exposé sur une jeune femme sans abri . Elle en a vu une à la Gare d’ Austerlitz . Une qui fait la manche , demande des clopes , s’ endort sur la table du café lorsque Lou lui offre à boire pour l’ interviewer . Elle a 18 ans , s’ appelle No , Nora en fait mais tout le monde dit No , et bientôt Lou ne pourra plus se passer d’ elle . Mais No est imprévisible , elle a grandi dans les foyers et elle ne ressemble à personne . Un jour , elle disparaît . Lou la recherche , sûre de ce besoin qu’ elles ont l’ une de l’ autre . Lorsque No réapparaît à bout de forces , Lou sait ce qu’ elle doit faire : No viendra vivre chez elle .\n"
     ]
    }
   ],
   "source": [
    "print(train['genre'].value_counts(), end='\\n\\n')\n",
    "print(random.choice(train['synopsis'].unique()))"
   ]
  },
  {
   "attachments": {},
   "cell_type": "markdown",
   "metadata": {},
   "source": [
    "On remarque déjà que les donnés chiffrées sont soit des entiers soit des flottants. Les données textuelles sont des chaînes de caractères. Certaines données sont manquantes : `NaN` dans le cas des données chiffrées et une chaîne vide dans le cas des données textuelles.\n",
    "\n",
    "Pour traiter les données manquantes, nous avons deux solutions :\n",
    "\n",
    "1. Dans le cas où il y a très peu de données manquantes, on peut simplement supprimer les entrées qui contiennent ces données manquantes. Cela peut être acceptable si le nombre de données manquantes est très faible par rapport à la taille de l'ensemble de données et que la suppression de ces entrées n'affecte pas significativement les résultats de l'analyse.\n",
    "2. En revanche, si le nombre de données manquantes est important, la suppression de ces entrées pourrait entraîner une perte d'informations importantes pour l'analyse. Dans ce cas, il est généralement préférable de remplacer les valeurs manquantes par une valeur qui représente au mieux l'information manquante. Par exemple, si les données manquantes sont des scores au box-office, vous pouvez remplacer ces données manquantes par la moyenne ou la médiane des scores de box-office disponibles dans les données.\n"
   ]
  },
  {
   "cell_type": "code",
   "execution_count": 5,
   "metadata": {},
   "outputs": [
    {
     "name": "stdout",
     "output_type": "stream",
     "text": [
      "(891, 22)\n",
      "(2875, 22)\n"
     ]
    }
   ],
   "source": [
    "EMPTY_TOKEN = '<EMPTY>'\n",
    "\n",
    "# remove rows with missing values\n",
    "train_dataset_1 = train.dropna(how='any', inplace=False)\n",
    "\n",
    "# replace missing values with either the mean or the median (or empty token)\n",
    "list_headers = train.columns.values.tolist()\n",
    "list_of_numerical_headers = train._get_numeric_data().columns.values.tolist()\n",
    "list_of_categorical_headers = list(set(list_headers) - set(list_of_numerical_headers))\n",
    "\n",
    "train_dataset_2 = train.copy()\n",
    "for header in list_of_numerical_headers:\n",
    "  train_dataset_2[header].fillna(train_dataset_2[header].median(), inplace=True)\n",
    "for header in list_of_categorical_headers:\n",
    "  train_dataset_2[header].fillna(EMPTY_TOKEN, inplace=True)\n",
    "\n",
    "print(train_dataset_1.shape)\n",
    "print(train_dataset_2.shape)"
   ]
  },
  {
   "attachments": {},
   "cell_type": "markdown",
   "metadata": {},
   "source": [
    "Lorsqu'on supprime simplement toutes les entrées où il manque au moins une valeur, on se retrouve uniquement avec 891 valeurs en tout. Cela signifie que nous avons perdu beaucoup d'informations. Nous allons donc utiliser la deuxième solution (au moins dans un premier temps) et remplacer les valeurs manquantes par des valeurs qui représentent au mieux l'information manquante."
   ]
  },
  {
   "attachments": {},
   "cell_type": "markdown",
   "metadata": {},
   "source": [
    "## 2. Prétraitement des données\n",
    "\n",
    "Il faut aussi corriger les entrées textuelles, ainsi qu'appliquer un certain nombre d'algorithmes de prétraitement comme : la suppression des caractères spéciaux, la suppression des stop words, la suppression des mots trop fréquents ou trop rares, la lemmatisation, la suppression des mots trop longs, etc.\n",
    "\n",
    "On définit donc un ensemble de fonctions et de filtres qui vont nous permettre de prétraiter les données textuelles."
   ]
  },
  {
   "cell_type": "code",
   "execution_count": 6,
   "metadata": {},
   "outputs": [],
   "source": [
    "nltk.download('stopwords', quiet=True)        # download the stopwords corpus\n",
    "nlp = spacy.load('fr_core_news_sm')           # load the French model\n",
    "fr_stopwords = set(stopwords.words('french')) # so that `in` tests are faster\n",
    "stemmer = SnowballStemmer(language='french')  # for stemming\n",
    "\n",
    "\n",
    "# get the tokens of a sentence (word based tokenization)\n",
    "def get_tokens_words(text: str) -> list[str]:\n",
    "  doc = nlp(text)\n",
    "  return [w.text for w in doc]\n",
    "\n",
    "\n",
    "# remove stopwords from a sentence\n",
    "def clean_sentence(text: str) -> list[str]:\n",
    "  clean_words: list[str] = []\n",
    "  for token in get_tokens_words(text):\n",
    "    if token not in fr_stopwords:\n",
    "      clean_words.append(token)\n",
    "  return clean_words\n",
    "\n",
    "\n",
    "# get the tokens of multiple sentences (sentence based tokenization)\n",
    "def get_tokens_sentences(text: str) -> list[str]:\n",
    "  doc = nlp(text)\n",
    "  return [s.text for s in doc.sents]\n",
    "\n",
    "\n",
    "# get the lemmas of a sentence\n",
    "def get_stem(text: str) -> list[str]:\n",
    "  doc = nlp(text)\n",
    "  return [stemmer.stem(w.text) for w in doc]\n",
    "\n",
    "\n",
    "# get the named entities of a sentence\n",
    "def get_ner(text: str) -> list[str]:\n",
    "  doc = nlp(text)\n",
    "  return [(ent.text, ent.label_) for ent in doc.ents]\n",
    "\n",
    "\n",
    "# render the named entities of a sentence in a Jupyter notebook\n",
    "def render_ner(text: str) -> None:\n",
    "  doc = nlp(text)\n",
    "  displacy.render(doc, style='ent', jupyter=True)\n",
    "\n",
    "\n",
    "# get the part of speech of a sentence\n",
    "def get_pos(text: str) -> list[str]:\n",
    "  doc = nlp(text)\n",
    "  return [(token, token.pos_) for token in doc]\n",
    "\n",
    "\n",
    "# render the part of speech of a sentence in a Jupyter notebook\n",
    "def render_pos(text: str) -> None:\n",
    "  doc = nlp(text)\n",
    "  displacy.render(doc, style='dep', options={'distance': 90})\n",
    "\n",
    "\n",
    "# get the word embeddings of a sentence\n",
    "def get_word_embeddings(text: str) -> list[np.ndarray]:\n",
    "  doc = nlp(text)\n",
    "  return [token.vector for token in doc]\n",
    "\n",
    "\n",
    "# get the similarity between two sentences\n",
    "def get_mean_embedding(text1: str, text2: str) -> float:\n",
    "  doc1 = nlp(text1)\n",
    "  doc2 = nlp(text2)\n",
    "  mean1 = np.mean([token.vector for token in doc1], axis=0)\n",
    "  mean2 = np.mean([token.vector for token in doc2], axis=0)\n",
    "\n",
    "  return np.dot(mean1, mean2) / (np.linalg.norm(mean1) * np.linalg.norm(mean2))"
   ]
  },
  {
   "attachments": {},
   "cell_type": "markdown",
   "metadata": {},
   "source": [
    "Juste pour clarifier les choses, nous allons simplement effectuer des tests sur l'ensemble de phrases suivantes :\n",
    "\n",
    "1. \"Le réseau sera bientôt rétabli à Marseille\"\n",
    "2. \"La panne réseau affecte plusieurs utilisateurs de l'opérateur\"\n",
    "3. \"Il fait 18 degrés ici\"\n",
    "4. \"Bouygues a eu une coupure de réseau à Marseille. La panne a affecté 300.000 utilisateurs.\""
   ]
  },
  {
   "cell_type": "code",
   "execution_count": 7,
   "metadata": {},
   "outputs": [],
   "source": [
    "text1 = 'Le réseau sera bientôt rétabli à Marseille.'\n",
    "text2 = 'La panne réseau affecte plusieurs utilisateurs de l\\'opérateur'\n",
    "text3 = 'Il fait 18 degrés ici'\n",
    "text4 = 'Bouygues a eu une coupure de réseau à Marseille. La panne a affecté 300.000 utilisateurs.'"
   ]
  },
  {
   "cell_type": "code",
   "execution_count": 8,
   "metadata": {},
   "outputs": [
    {
     "name": "stdout",
     "output_type": "stream",
     "text": [
      "['Le', 'réseau', 'sera', 'bientôt', 'rétabli', 'à', 'Marseille', '.']\n",
      "['Le', 'réseau', 'bientôt', 'rétabli', 'Marseille', '.']\n",
      "['Bouygues a eu une coupure de réseau à Marseille.', 'La panne a affecté 300.000 utilisateurs.']\n"
     ]
    }
   ],
   "source": [
    "# basic tokenization\n",
    "# we can observe `get_tokens_sentences` do not \"cut\" at each . or ! or ?\n",
    "\n",
    "print(get_tokens_words(text1))\n",
    "print(clean_sentence(text1))\n",
    "print(get_tokens_sentences(text4))"
   ]
  },
  {
   "cell_type": "code",
   "execution_count": 9,
   "metadata": {},
   "outputs": [
    {
     "name": "stdout",
     "output_type": "stream",
     "text": [
      "['le', 'réseau', 'ser', 'bientôt', 'rétabl', 'à', 'marseil', '.']\n",
      "['la', 'pann', 'réseau', 'affect', 'plusieur', 'utilis', 'de', \"l'\", 'oper']\n"
     ]
    }
   ],
   "source": [
    "# stemming\n",
    "# this doesn't work very well for French...\n",
    "\n",
    "print(get_stem(text1))\n",
    "print(get_stem(text2))"
   ]
  },
  {
   "cell_type": "code",
   "execution_count": 10,
   "metadata": {},
   "outputs": [
    {
     "name": "stdout",
     "output_type": "stream",
     "text": [
      "[('Bouygues', 'ORG'), ('Marseille', 'LOC')]\n"
     ]
    },
    {
     "data": {
      "text/html": [
       "<span class=\"tex2jax_ignore\"><div class=\"entities\" style=\"line-height: 2.5; direction: ltr\">\n",
       "<mark class=\"entity\" style=\"background: #7aecec; padding: 0.45em 0.6em; margin: 0 0.25em; line-height: 1; border-radius: 0.35em;\">\n",
       "    Bouygues\n",
       "    <span style=\"font-size: 0.8em; font-weight: bold; line-height: 1; border-radius: 0.35em; vertical-align: middle; margin-left: 0.5rem\">ORG</span>\n",
       "</mark>\n",
       " a eu une coupure de réseau à \n",
       "<mark class=\"entity\" style=\"background: #ff9561; padding: 0.45em 0.6em; margin: 0 0.25em; line-height: 1; border-radius: 0.35em;\">\n",
       "    Marseille\n",
       "    <span style=\"font-size: 0.8em; font-weight: bold; line-height: 1; border-radius: 0.35em; vertical-align: middle; margin-left: 0.5rem\">LOC</span>\n",
       "</mark>\n",
       ". La panne a affecté 300.000 utilisateurs.</div></span>"
      ],
      "text/plain": [
       "<IPython.core.display.HTML object>"
      ]
     },
     "metadata": {},
     "output_type": "display_data"
    }
   ],
   "source": [
    "# named entities recognition\n",
    "\n",
    "print(get_ner(text4))\n",
    "render_ner(text4)"
   ]
  },
  {
   "cell_type": "code",
   "execution_count": 11,
   "metadata": {},
   "outputs": [
    {
     "name": "stdout",
     "output_type": "stream",
     "text": [
      "[(Le, 'DET'), (réseau, 'NOUN'), (sera, 'AUX'), (bientôt, 'ADV'), (rétabli, 'ADJ'), (à, 'ADP'), (Marseille, 'PROPN'), (., 'PUNCT')]\n"
     ]
    },
    {
     "data": {
      "text/html": [
       "<span class=\"tex2jax_ignore\"><svg xmlns=\"http://www.w3.org/2000/svg\" xmlns:xlink=\"http://www.w3.org/1999/xlink\" xml:lang=\"fr\" id=\"4929ee47bcdb494fab2d1e6b138eea2f-0\" class=\"displacy\" width=\"680\" height=\"272.0\" direction=\"ltr\" style=\"max-width: none; height: 272.0px; color: #000000; background: #ffffff; font-family: Arial; direction: ltr\">\n",
       "<text class=\"displacy-token\" fill=\"currentColor\" text-anchor=\"middle\" y=\"182.0\">\n",
       "    <tspan class=\"displacy-word\" fill=\"currentColor\" x=\"50\">Le</tspan>\n",
       "    <tspan class=\"displacy-tag\" dy=\"2em\" fill=\"currentColor\" x=\"50\">DET</tspan>\n",
       "</text>\n",
       "\n",
       "<text class=\"displacy-token\" fill=\"currentColor\" text-anchor=\"middle\" y=\"182.0\">\n",
       "    <tspan class=\"displacy-word\" fill=\"currentColor\" x=\"140\">réseau</tspan>\n",
       "    <tspan class=\"displacy-tag\" dy=\"2em\" fill=\"currentColor\" x=\"140\">NOUN</tspan>\n",
       "</text>\n",
       "\n",
       "<text class=\"displacy-token\" fill=\"currentColor\" text-anchor=\"middle\" y=\"182.0\">\n",
       "    <tspan class=\"displacy-word\" fill=\"currentColor\" x=\"230\">sera</tspan>\n",
       "    <tspan class=\"displacy-tag\" dy=\"2em\" fill=\"currentColor\" x=\"230\">AUX</tspan>\n",
       "</text>\n",
       "\n",
       "<text class=\"displacy-token\" fill=\"currentColor\" text-anchor=\"middle\" y=\"182.0\">\n",
       "    <tspan class=\"displacy-word\" fill=\"currentColor\" x=\"320\">bientôt</tspan>\n",
       "    <tspan class=\"displacy-tag\" dy=\"2em\" fill=\"currentColor\" x=\"320\">ADV</tspan>\n",
       "</text>\n",
       "\n",
       "<text class=\"displacy-token\" fill=\"currentColor\" text-anchor=\"middle\" y=\"182.0\">\n",
       "    <tspan class=\"displacy-word\" fill=\"currentColor\" x=\"410\">rétabli</tspan>\n",
       "    <tspan class=\"displacy-tag\" dy=\"2em\" fill=\"currentColor\" x=\"410\">ADJ</tspan>\n",
       "</text>\n",
       "\n",
       "<text class=\"displacy-token\" fill=\"currentColor\" text-anchor=\"middle\" y=\"182.0\">\n",
       "    <tspan class=\"displacy-word\" fill=\"currentColor\" x=\"500\">à</tspan>\n",
       "    <tspan class=\"displacy-tag\" dy=\"2em\" fill=\"currentColor\" x=\"500\">ADP</tspan>\n",
       "</text>\n",
       "\n",
       "<text class=\"displacy-token\" fill=\"currentColor\" text-anchor=\"middle\" y=\"182.0\">\n",
       "    <tspan class=\"displacy-word\" fill=\"currentColor\" x=\"590\">Marseille.</tspan>\n",
       "    <tspan class=\"displacy-tag\" dy=\"2em\" fill=\"currentColor\" x=\"590\">PROPN</tspan>\n",
       "</text>\n",
       "\n",
       "<g class=\"displacy-arrow\">\n",
       "    <path class=\"displacy-arc\" id=\"arrow-4929ee47bcdb494fab2d1e6b138eea2f-0-0\" stroke-width=\"2px\" d=\"M70,137.0 C70,92.0 130.0,92.0 130.0,137.0\" fill=\"none\" stroke=\"currentColor\"/>\n",
       "    <text dy=\"1.25em\" style=\"font-size: 0.8em; letter-spacing: 1px\">\n",
       "        <textPath xlink:href=\"#arrow-4929ee47bcdb494fab2d1e6b138eea2f-0-0\" class=\"displacy-label\" startOffset=\"50%\" side=\"left\" fill=\"currentColor\" text-anchor=\"middle\">det</textPath>\n",
       "    </text>\n",
       "    <path class=\"displacy-arrowhead\" d=\"M70,139.0 L62,127.0 78,127.0\" fill=\"currentColor\"/>\n",
       "</g>\n",
       "\n",
       "<g class=\"displacy-arrow\">\n",
       "    <path class=\"displacy-arc\" id=\"arrow-4929ee47bcdb494fab2d1e6b138eea2f-0-1\" stroke-width=\"2px\" d=\"M160,137.0 C160,2.0 410.0,2.0 410.0,137.0\" fill=\"none\" stroke=\"currentColor\"/>\n",
       "    <text dy=\"1.25em\" style=\"font-size: 0.8em; letter-spacing: 1px\">\n",
       "        <textPath xlink:href=\"#arrow-4929ee47bcdb494fab2d1e6b138eea2f-0-1\" class=\"displacy-label\" startOffset=\"50%\" side=\"left\" fill=\"currentColor\" text-anchor=\"middle\">nsubj</textPath>\n",
       "    </text>\n",
       "    <path class=\"displacy-arrowhead\" d=\"M160,139.0 L152,127.0 168,127.0\" fill=\"currentColor\"/>\n",
       "</g>\n",
       "\n",
       "<g class=\"displacy-arrow\">\n",
       "    <path class=\"displacy-arc\" id=\"arrow-4929ee47bcdb494fab2d1e6b138eea2f-0-2\" stroke-width=\"2px\" d=\"M250,137.0 C250,47.0 405.0,47.0 405.0,137.0\" fill=\"none\" stroke=\"currentColor\"/>\n",
       "    <text dy=\"1.25em\" style=\"font-size: 0.8em; letter-spacing: 1px\">\n",
       "        <textPath xlink:href=\"#arrow-4929ee47bcdb494fab2d1e6b138eea2f-0-2\" class=\"displacy-label\" startOffset=\"50%\" side=\"left\" fill=\"currentColor\" text-anchor=\"middle\">cop</textPath>\n",
       "    </text>\n",
       "    <path class=\"displacy-arrowhead\" d=\"M250,139.0 L242,127.0 258,127.0\" fill=\"currentColor\"/>\n",
       "</g>\n",
       "\n",
       "<g class=\"displacy-arrow\">\n",
       "    <path class=\"displacy-arc\" id=\"arrow-4929ee47bcdb494fab2d1e6b138eea2f-0-3\" stroke-width=\"2px\" d=\"M340,137.0 C340,92.0 400.0,92.0 400.0,137.0\" fill=\"none\" stroke=\"currentColor\"/>\n",
       "    <text dy=\"1.25em\" style=\"font-size: 0.8em; letter-spacing: 1px\">\n",
       "        <textPath xlink:href=\"#arrow-4929ee47bcdb494fab2d1e6b138eea2f-0-3\" class=\"displacy-label\" startOffset=\"50%\" side=\"left\" fill=\"currentColor\" text-anchor=\"middle\">advmod</textPath>\n",
       "    </text>\n",
       "    <path class=\"displacy-arrowhead\" d=\"M340,139.0 L332,127.0 348,127.0\" fill=\"currentColor\"/>\n",
       "</g>\n",
       "\n",
       "<g class=\"displacy-arrow\">\n",
       "    <path class=\"displacy-arc\" id=\"arrow-4929ee47bcdb494fab2d1e6b138eea2f-0-4\" stroke-width=\"2px\" d=\"M520,137.0 C520,92.0 580.0,92.0 580.0,137.0\" fill=\"none\" stroke=\"currentColor\"/>\n",
       "    <text dy=\"1.25em\" style=\"font-size: 0.8em; letter-spacing: 1px\">\n",
       "        <textPath xlink:href=\"#arrow-4929ee47bcdb494fab2d1e6b138eea2f-0-4\" class=\"displacy-label\" startOffset=\"50%\" side=\"left\" fill=\"currentColor\" text-anchor=\"middle\">case</textPath>\n",
       "    </text>\n",
       "    <path class=\"displacy-arrowhead\" d=\"M520,139.0 L512,127.0 528,127.0\" fill=\"currentColor\"/>\n",
       "</g>\n",
       "\n",
       "<g class=\"displacy-arrow\">\n",
       "    <path class=\"displacy-arc\" id=\"arrow-4929ee47bcdb494fab2d1e6b138eea2f-0-5\" stroke-width=\"2px\" d=\"M430,137.0 C430,47.0 585.0,47.0 585.0,137.0\" fill=\"none\" stroke=\"currentColor\"/>\n",
       "    <text dy=\"1.25em\" style=\"font-size: 0.8em; letter-spacing: 1px\">\n",
       "        <textPath xlink:href=\"#arrow-4929ee47bcdb494fab2d1e6b138eea2f-0-5\" class=\"displacy-label\" startOffset=\"50%\" side=\"left\" fill=\"currentColor\" text-anchor=\"middle\">obl:arg</textPath>\n",
       "    </text>\n",
       "    <path class=\"displacy-arrowhead\" d=\"M585.0,139.0 L593.0,127.0 577.0,127.0\" fill=\"currentColor\"/>\n",
       "</g>\n",
       "</svg></span>"
      ],
      "text/plain": [
       "<IPython.core.display.HTML object>"
      ]
     },
     "metadata": {},
     "output_type": "display_data"
    }
   ],
   "source": [
    "# part of speech\n",
    "\n",
    "print(get_pos(text1))\n",
    "render_pos(text1)"
   ]
  },
  {
   "cell_type": "code",
   "execution_count": 12,
   "metadata": {},
   "outputs": [
    {
     "name": "stdout",
     "output_type": "stream",
     "text": [
      "(96,)\n",
      "0.29973912\n",
      "0.39468837\n",
      "0.53404236\n"
     ]
    }
   ],
   "source": [
    "# word embeddings and mean embedding (similarity)\n",
    "\n",
    "print(get_word_embeddings(text1)[0].shape)\n",
    "print(get_mean_embedding(text1, text2))\n",
    "print(get_mean_embedding(text1, text4))\n",
    "print(get_mean_embedding(text2, text4))"
   ]
  }
 ],
 "metadata": {
  "kernelspec": {
   "display_name": "Python 3",
   "language": "python",
   "name": "python3"
  },
  "language_info": {
   "codemirror_mode": {
    "name": "ipython",
    "version": 3
   },
   "file_extension": ".py",
   "mimetype": "text/x-python",
   "name": "python",
   "nbconvert_exporter": "python",
   "pygments_lexer": "ipython3",
   "version": "3.11.3"
  },
  "orig_nbformat": 4
 },
 "nbformat": 4,
 "nbformat_minor": 2
}
